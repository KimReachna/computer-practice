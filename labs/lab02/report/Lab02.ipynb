{
 "cells": [
  {
   "cell_type": "markdown",
   "id": "7c3304a4-0c54-4bdb-a159-07a429ddb396",
   "metadata": {},
   "source": [
    "##  Кортежи"
   ]
  },
  {
   "cell_type": "code",
   "execution_count": 1,
   "id": "34014eac-2d68-41ff-bd7d-4f82d55e5486",
   "metadata": {},
   "outputs": [
    {
     "data": {
      "text/plain": [
       "()"
      ]
     },
     "execution_count": 1,
     "metadata": {},
     "output_type": "execute_result"
    }
   ],
   "source": [
    "# пустой кортеж:\n",
    "()"
   ]
  },
  {
   "cell_type": "code",
   "execution_count": 2,
   "id": "55401fff-fdb2-40de-aa17-10a4ea00675e",
   "metadata": {},
   "outputs": [
    {
     "data": {
      "text/plain": [
       "(\"Python\", \"Julia\", \"R\")"
      ]
     },
     "execution_count": 2,
     "metadata": {},
     "output_type": "execute_result"
    }
   ],
   "source": [
    "# кортеж из элементов типа String:\n",
    "favoritelang = (\"Python\",\"Julia\",\"R\")"
   ]
  },
  {
   "cell_type": "code",
   "execution_count": 3,
   "id": "67144ee2-f032-41ce-a228-ec9176b0c0e5",
   "metadata": {},
   "outputs": [
    {
     "data": {
      "text/plain": [
       "(1, 2, 3)"
      ]
     },
     "execution_count": 3,
     "metadata": {},
     "output_type": "execute_result"
    }
   ],
   "source": [
    "# кортеж из целых чисел:\n",
    "x1 = (1, 2, 3)"
   ]
  },
  {
   "cell_type": "code",
   "execution_count": 4,
   "id": "82c7068c-18ba-495f-8c66-3ae3c571453d",
   "metadata": {},
   "outputs": [
    {
     "data": {
      "text/plain": [
       "(1, 2.0, \"tmp\")"
      ]
     },
     "execution_count": 4,
     "metadata": {},
     "output_type": "execute_result"
    }
   ],
   "source": [
    "# кортеж из элементов разных типов:\n",
    "x2 = (1, 2.0, \"tmp\")"
   ]
  },
  {
   "cell_type": "code",
   "execution_count": 5,
   "id": "5fd39f77-c9b8-4b22-9d70-28d4052c0cf3",
   "metadata": {},
   "outputs": [
    {
     "data": {
      "text/plain": [
       "(a = 2, b = 3)"
      ]
     },
     "execution_count": 5,
     "metadata": {},
     "output_type": "execute_result"
    }
   ],
   "source": [
    "# именованный кортеж:\n",
    "x3 = (a=2, b=1+2)"
   ]
  },
  {
   "cell_type": "code",
   "execution_count": 6,
   "id": "fcf5b48a-2c89-4426-995c-fd3830f80fe8",
   "metadata": {},
   "outputs": [
    {
     "data": {
      "text/plain": [
       "3"
      ]
     },
     "execution_count": 6,
     "metadata": {},
     "output_type": "execute_result"
    }
   ],
   "source": [
    "# Примеры операций над кортежами:\n",
    "# длина кортежа x2:\n",
    "length(x2)"
   ]
  },
  {
   "cell_type": "code",
   "execution_count": 7,
   "id": "ea4f995a-2bac-408d-a5f2-b4fbf9192e24",
   "metadata": {},
   "outputs": [
    {
     "data": {
      "text/plain": [
       "(1, 2.0, \"tmp\")"
      ]
     },
     "execution_count": 7,
     "metadata": {},
     "output_type": "execute_result"
    }
   ],
   "source": [
    "# обратиться к элементам кортежа x2:\n",
    "x2[1], x2[2], x2[3]"
   ]
  },
  {
   "cell_type": "code",
   "execution_count": 8,
   "id": "192abac9-da2e-412d-8bf2-576dcc3f89e2",
   "metadata": {},
   "outputs": [
    {
     "data": {
      "text/plain": [
       "5"
      ]
     },
     "execution_count": 8,
     "metadata": {},
     "output_type": "execute_result"
    }
   ],
   "source": [
    "# произвести какую-либо операцию (сложение)\n",
    "# с вторым и третьим элементами кортежа x1:\n",
    "с = x1[2] + x1[3]"
   ]
  },
  {
   "cell_type": "code",
   "execution_count": 9,
   "id": "feca8283-51f3-494e-8afc-096cc4b4737e",
   "metadata": {},
   "outputs": [
    {
     "data": {
      "text/plain": [
       "(2, 3, 3)"
      ]
     },
     "execution_count": 9,
     "metadata": {},
     "output_type": "execute_result"
    }
   ],
   "source": [
    "# обращение к элементам именованного кортежа x3:\n",
    "x3.a, x3.b, x3[2]"
   ]
  },
  {
   "cell_type": "code",
   "execution_count": 10,
   "id": "3c206626-fe7a-4b60-bb34-ded8aa095c14",
   "metadata": {},
   "outputs": [
    {
     "data": {
      "text/plain": [
       "(true, false)"
      ]
     },
     "execution_count": 10,
     "metadata": {},
     "output_type": "execute_result"
    }
   ],
   "source": [
    "# проверка вхождения элементов tmp и 0 в кортеж x2\n",
    "# (два способа обращения к методу in()):\n",
    "in(\"tmp\", x2), 0 in x2"
   ]
  },
  {
   "cell_type": "markdown",
   "id": "aebcbdaf-ea40-4bae-8acf-92dddb8427db",
   "metadata": {},
   "source": [
    "## Словари"
   ]
  },
  {
   "cell_type": "code",
   "execution_count": 11,
   "id": "8ef43e0e-ec2d-4c75-ba3a-1310df28a72b",
   "metadata": {},
   "outputs": [
    {
     "data": {
      "text/plain": [
       "Dict{String, Any} with 2 entries:\n",
       "  \"Бухгалтерия\" => \"555-2368\"\n",
       "  \"Иванов И.И.\" => (\"867-5309\", \"333-5544\")"
      ]
     },
     "execution_count": 11,
     "metadata": {},
     "output_type": "execute_result"
    }
   ],
   "source": [
    "# создать словарь с именем phonebook:\n",
    "phonebook = Dict(\"Иванов И.И.\" => (\"867-5309\",\"333-5544\"), \"Бухгалтерия\" => \"555-2368\")"
   ]
  },
  {
   "cell_type": "code",
   "execution_count": 12,
   "id": "f0baa970-4d4b-440b-aa99-8ec952746e74",
   "metadata": {},
   "outputs": [
    {
     "data": {
      "text/plain": [
       "KeySet for a Dict{String, Any} with 2 entries. Keys:\n",
       "  \"Бухгалтерия\"\n",
       "  \"Иванов И.И.\""
      ]
     },
     "execution_count": 12,
     "metadata": {},
     "output_type": "execute_result"
    }
   ],
   "source": [
    "# вывести ключи словаря:\n",
    "keys(phonebook)"
   ]
  },
  {
   "cell_type": "code",
   "execution_count": 13,
   "id": "71ddf77f-f54f-4942-90bb-230aa2490217",
   "metadata": {},
   "outputs": [
    {
     "data": {
      "text/plain": [
       "ValueIterator for a Dict{String, Any} with 2 entries. Values:\n",
       "  \"555-2368\"\n",
       "  (\"867-5309\", \"333-5544\")"
      ]
     },
     "execution_count": 13,
     "metadata": {},
     "output_type": "execute_result"
    }
   ],
   "source": [
    "# вывести значения элементов словаря:\n",
    "values(phonebook)"
   ]
  },
  {
   "cell_type": "code",
   "execution_count": 14,
   "id": "d71371d0-acb0-4d8a-b36d-fbc0677ce13b",
   "metadata": {},
   "outputs": [
    {
     "data": {
      "text/plain": [
       "Dict{String, Any} with 2 entries:\n",
       "  \"Бухгалтерия\" => \"555-2368\"\n",
       "  \"Иванов И.И.\" => (\"867-5309\", \"333-5544\")"
      ]
     },
     "execution_count": 14,
     "metadata": {},
     "output_type": "execute_result"
    }
   ],
   "source": [
    "# вывести заданные в словаре пары \"ключ - значение\":\n",
    "pairs(phonebook)"
   ]
  },
  {
   "cell_type": "code",
   "execution_count": 15,
   "id": "de120a16-4000-4546-875f-439f6c832032",
   "metadata": {},
   "outputs": [
    {
     "data": {
      "text/plain": [
       "true"
      ]
     },
     "execution_count": 15,
     "metadata": {},
     "output_type": "execute_result"
    }
   ],
   "source": [
    "# проверка вхождения ключа в словарь:\n",
    "haskey(phonebook, \"Иванов И.И.\")"
   ]
  },
  {
   "cell_type": "code",
   "execution_count": 16,
   "id": "72ab7d9a-e0e8-4469-966c-801e63fa5e46",
   "metadata": {},
   "outputs": [
    {
     "data": {
      "text/plain": [
       "\"555-3344\""
      ]
     },
     "execution_count": 16,
     "metadata": {},
     "output_type": "execute_result"
    }
   ],
   "source": [
    "# добавить элемент в словарь:\n",
    "phonebook[\"Сидоров П.С.\"] = \"555-3344\""
   ]
  },
  {
   "cell_type": "code",
   "execution_count": 17,
   "id": "375f9c1f-1895-4505-ae50-93a768e91625",
   "metadata": {},
   "outputs": [
    {
     "data": {
      "text/plain": [
       "(\"867-5309\", \"333-5544\")"
      ]
     },
     "execution_count": 17,
     "metadata": {},
     "output_type": "execute_result"
    }
   ],
   "source": [
    "# удалить ключ и связанные с ним значения из словаря\n",
    "pop!(phonebook, \"Иванов И.И.\")"
   ]
  },
  {
   "cell_type": "code",
   "execution_count": 18,
   "id": "817921c0-abcc-449f-9c69-d1625dd18e69",
   "metadata": {},
   "outputs": [
    {
     "data": {
      "text/plain": [
       "(Dict{String, Real}(\"bar\" => 13.0, \"baz\" => 17, \"foo\" => 0.0), Dict{String, Real}(\"bar\" => 42.0, \"baz\" => 17, \"foo\" => 0.0))"
      ]
     },
     "execution_count": 18,
     "metadata": {},
     "output_type": "execute_result"
    }
   ],
   "source": [
    "# Объединение словарей (функция merge()):\n",
    "a = Dict(\"foo\" => 0.0, \"bar\" => 42.0);\n",
    "b = Dict(\"baz\" => 17, \"bar\" => 13.0);\n",
    "merge(a, b), merge(b,a)"
   ]
  },
  {
   "cell_type": "markdown",
   "id": "3be87b36-a0ff-43a3-93a0-c5c47dd531b8",
   "metadata": {},
   "source": [
    " ## Множества"
   ]
  },
  {
   "cell_type": "code",
   "execution_count": 19,
   "id": "735c5781-138b-4da3-9a95-7becc726cae6",
   "metadata": {},
   "outputs": [
    {
     "data": {
      "text/plain": [
       "Set{Int64} with 4 elements:\n",
       "  5\n",
       "  4\n",
       "  3\n",
       "  1"
      ]
     },
     "execution_count": 19,
     "metadata": {},
     "output_type": "execute_result"
    }
   ],
   "source": [
    "# создать множество из четырёх целочисленных значений:\n",
    "A = Set([1, 3, 4, 5])"
   ]
  },
  {
   "cell_type": "code",
   "execution_count": 20,
   "id": "91f3135e-8360-425e-9a88-5a8f3f58a01c",
   "metadata": {},
   "outputs": [
    {
     "data": {
      "text/plain": [
       "Set{Char} with 5 elements:\n",
       "  'a'\n",
       "  'd'\n",
       "  'r'\n",
       "  'k'\n",
       "  'b'"
      ]
     },
     "execution_count": 20,
     "metadata": {},
     "output_type": "execute_result"
    }
   ],
   "source": [
    "# создать множество из 11 символьных значений:\n",
    "B = Set(\"abrakadabra\")"
   ]
  },
  {
   "cell_type": "code",
   "execution_count": 21,
   "id": "29be272d-d0d4-4ea9-b030-f3bd034c747e",
   "metadata": {},
   "outputs": [
    {
     "data": {
      "text/plain": [
       "false"
      ]
     },
     "execution_count": 21,
     "metadata": {},
     "output_type": "execute_result"
    }
   ],
   "source": [
    "# проверка эквивалентности двух множеств:\n",
    "S1 = Set([1,2]);\n",
    "S2 = Set([3,4]);\n",
    "issetequal(S1,S2)"
   ]
  },
  {
   "cell_type": "code",
   "execution_count": 22,
   "id": "bfe2e49d-f3fc-48f5-977d-0d1336a0a360",
   "metadata": {},
   "outputs": [
    {
     "data": {
      "text/plain": [
       "true"
      ]
     },
     "execution_count": 22,
     "metadata": {},
     "output_type": "execute_result"
    }
   ],
   "source": [
    "S3 = Set([1,2,2,3,1,2,3,2,1]);\n",
    "S4 = Set([2,3,1]);\n",
    "issetequal(S3,S4)"
   ]
  },
  {
   "cell_type": "code",
   "execution_count": 23,
   "id": "3d83f21c-0d00-4556-914e-426975d4668e",
   "metadata": {},
   "outputs": [
    {
     "data": {
      "text/plain": [
       "Set{Int64} with 4 elements:\n",
       "  4\n",
       "  2\n",
       "  3\n",
       "  1"
      ]
     },
     "execution_count": 23,
     "metadata": {},
     "output_type": "execute_result"
    }
   ],
   "source": [
    "# объединение множеств:\n",
    "C=union(S1,S2)"
   ]
  },
  {
   "cell_type": "code",
   "execution_count": 24,
   "id": "645c3ff6-7612-459a-b197-9010de842c14",
   "metadata": {},
   "outputs": [
    {
     "data": {
      "text/plain": [
       "Set{Int64} with 2 elements:\n",
       "  2\n",
       "  1"
      ]
     },
     "execution_count": 24,
     "metadata": {},
     "output_type": "execute_result"
    }
   ],
   "source": [
    "# пересечение множеств:\n",
    "D = intersect(S1,S3)"
   ]
  },
  {
   "cell_type": "code",
   "execution_count": 25,
   "id": "f07fee4b-4625-46de-a18d-f51f226f4116",
   "metadata": {},
   "outputs": [
    {
     "data": {
      "text/plain": [
       "Set{Int64} with 1 element:\n",
       "  3"
      ]
     },
     "execution_count": 25,
     "metadata": {},
     "output_type": "execute_result"
    }
   ],
   "source": [
    "# разность множеств:\n",
    "E = setdiff(S3,S1)"
   ]
  },
  {
   "cell_type": "code",
   "execution_count": 26,
   "id": "f251c81d-cb9b-412b-bca9-d5d345419c51",
   "metadata": {},
   "outputs": [
    {
     "data": {
      "text/plain": [
       "true"
      ]
     },
     "execution_count": 26,
     "metadata": {},
     "output_type": "execute_result"
    }
   ],
   "source": [
    "# проверка вхождения элементов одного множества в другое:\n",
    "issubset(S1,S4)"
   ]
  },
  {
   "cell_type": "code",
   "execution_count": 27,
   "id": "d59d6817-be0f-4967-81fd-5084f4dcb253",
   "metadata": {},
   "outputs": [
    {
     "data": {
      "text/plain": [
       "Set{Int64} with 4 elements:\n",
       "  2\n",
       "  99\n",
       "  3\n",
       "  1"
      ]
     },
     "execution_count": 27,
     "metadata": {},
     "output_type": "execute_result"
    }
   ],
   "source": [
    "# добавление элемента в множество:\n",
    "push!(S4, 99)"
   ]
  },
  {
   "cell_type": "code",
   "execution_count": 28,
   "id": "51b0714d-ab4e-4089-bd36-9520d5fbf32a",
   "metadata": {},
   "outputs": [
    {
     "data": {
      "text/plain": [
       "2"
      ]
     },
     "execution_count": 28,
     "metadata": {},
     "output_type": "execute_result"
    }
   ],
   "source": [
    "# удаление последнего элемента множества:\n",
    "pop!(S4)"
   ]
  },
  {
   "cell_type": "markdown",
   "id": "20ae53b1-64c7-4af5-8ca0-582db6ceab8b",
   "metadata": {},
   "source": [
    "## Массивы"
   ]
  },
  {
   "cell_type": "code",
   "execution_count": 29,
   "id": "1034cca5-ddc8-495e-9660-ac3e268f0d4c",
   "metadata": {},
   "outputs": [
    {
     "data": {
      "text/plain": [
       "Any[]"
      ]
     },
     "execution_count": 29,
     "metadata": {},
     "output_type": "execute_result"
    }
   ],
   "source": [
    "# создание пустого массива с абстрактным типом:\n",
    "empty_array_1 = []"
   ]
  },
  {
   "cell_type": "code",
   "execution_count": 30,
   "id": "f942d792-4167-4eba-af75-f5b2a53b5dd8",
   "metadata": {},
   "outputs": [
    {
     "data": {
      "text/plain": [
       "Int64[]"
      ]
     },
     "execution_count": 30,
     "metadata": {},
     "output_type": "execute_result"
    }
   ],
   "source": [
    "# создание пустого массива с конкретным типом:\n",
    "empty_array_2 = (Int64)[]"
   ]
  },
  {
   "cell_type": "code",
   "execution_count": 31,
   "id": "dcb96a9f-93e7-4531-97b2-7244eb4890d2",
   "metadata": {},
   "outputs": [
    {
     "data": {
      "text/plain": [
       "Float64[]"
      ]
     },
     "execution_count": 31,
     "metadata": {},
     "output_type": "execute_result"
    }
   ],
   "source": [
    "empty_array_3 = (Float64)[]"
   ]
  },
  {
   "cell_type": "code",
   "execution_count": 32,
   "id": "de698560-d1e4-4123-be07-36776590cf43",
   "metadata": {},
   "outputs": [
    {
     "data": {
      "text/plain": [
       "3-element Vector{Int64}:\n",
       " 1\n",
       " 2\n",
       " 3"
      ]
     },
     "execution_count": 32,
     "metadata": {},
     "output_type": "execute_result"
    }
   ],
   "source": [
    "# вектор-столбец:\n",
    "a = [1, 2, 3]"
   ]
  },
  {
   "cell_type": "code",
   "execution_count": 33,
   "id": "42d7e4b4-d40c-4e02-81cd-9d2ba16ae8ec",
   "metadata": {},
   "outputs": [
    {
     "data": {
      "text/plain": [
       "1×3 Matrix{Int64}:\n",
       " 1  2  3"
      ]
     },
     "execution_count": 33,
     "metadata": {},
     "output_type": "execute_result"
    }
   ],
   "source": [
    "# вектор-строка:\n",
    "b = [1 2 3]"
   ]
  },
  {
   "cell_type": "code",
   "execution_count": 34,
   "id": "61587e01-0c12-44bd-be84-a1957de13810",
   "metadata": {},
   "outputs": [
    {
     "data": {
      "text/plain": [
       "3×3 Matrix{Int64}:\n",
       " 1  2  3\n",
       " 4  5  6\n",
       " 7  8  9"
      ]
     },
     "execution_count": 34,
     "metadata": {},
     "output_type": "execute_result"
    }
   ],
   "source": [
    "# многомерные массивы (матрицы):\n",
    "A = [[1, 2, 3] [4, 5, 6] [7, 8, 9]]\n",
    "B = [[1 2 3]; [4 5 6]; [7 8 9]]"
   ]
  },
  {
   "cell_type": "code",
   "execution_count": 35,
   "id": "bcfe2c86-5d34-4e7f-9528-22efadabff6e",
   "metadata": {},
   "outputs": [
    {
     "data": {
      "text/plain": [
       "1×8 Matrix{Float64}:\n",
       " 0.321668  0.486016  0.0357191  0.475654  …  0.681394  0.495768  0.515487"
      ]
     },
     "execution_count": 35,
     "metadata": {},
     "output_type": "execute_result"
    }
   ],
   "source": [
    "# одномерный массив из 8 элементов (массив $1 \\times 8$)\n",
    "# со значениями, случайно распределёнными на интервале [0, 1):\n",
    "c = rand(1,8)"
   ]
  },
  {
   "cell_type": "code",
   "execution_count": 36,
   "id": "f385e1ea-25b1-4fc1-bc01-281d71bd46fe",
   "metadata": {},
   "outputs": [
    {
     "data": {
      "text/plain": [
       "4×3×2 Array{Float64, 3}:\n",
       "[:, :, 1] =\n",
       " 0.0601193  0.600416  0.90214\n",
       " 0.870783   0.651348  0.691781\n",
       " 0.373909   0.324747  0.371572\n",
       " 0.216877   0.223216  0.452818\n",
       "\n",
       "[:, :, 2] =\n",
       " 0.663434  0.291783  0.562177\n",
       " 0.273255  0.394848  0.145918\n",
       " 0.191051  0.241634  0.66974\n",
       " 0.541105  0.901492  0.52052"
      ]
     },
     "execution_count": 36,
     "metadata": {},
     "output_type": "execute_result"
    }
   ],
   "source": [
    "# трёхмерный массив:\n",
    "D = rand(4, 3, 2)"
   ]
  },
  {
   "cell_type": "code",
   "execution_count": 37,
   "id": "50b1c846-4503-4030-b3b1-3a8eb4620a50",
   "metadata": {},
   "outputs": [
    {
     "data": {
      "text/plain": [
       "10-element Vector{Float64}:\n",
       " 1.0\n",
       " 1.4142135623730951\n",
       " 1.7320508075688772\n",
       " 2.0\n",
       " 2.23606797749979\n",
       " 2.449489742783178\n",
       " 2.6457513110645907\n",
       " 2.8284271247461903\n",
       " 3.0\n",
       " 3.1622776601683795"
      ]
     },
     "execution_count": 37,
     "metadata": {},
     "output_type": "execute_result"
    }
   ],
   "source": [
    "# Примеры массивов, заданных некоторыми функциями через включение:\n",
    "# массив из квадратных корней всех целых чисел от 1 до 10:\n",
    "roots = [sqrt(i) for i in 1:10]"
   ]
  },
  {
   "cell_type": "code",
   "execution_count": 38,
   "id": "a05d60ec-d7fd-494f-9ec8-63639254cc29",
   "metadata": {},
   "outputs": [
    {
     "data": {
      "text/plain": [
       "5-element Vector{Int64}:\n",
       "   3\n",
       "  27\n",
       "  75\n",
       " 147\n",
       " 243"
      ]
     },
     "execution_count": 38,
     "metadata": {},
     "output_type": "execute_result"
    }
   ],
   "source": [
    "# массив с элементами вида 3*x^2,\n",
    "# где x - нечётное число от 1 до 9 (включительно)\n",
    "ar_1 = [3*i^2 for i in 1:2:9]"
   ]
  },
  {
   "cell_type": "code",
   "execution_count": 39,
   "id": "38e31edd-d876-43b7-8a03-6f5c7f2bf67b",
   "metadata": {},
   "outputs": [
    {
     "data": {
      "text/plain": [
       "4-element Vector{Int64}:\n",
       "  1\n",
       "  9\n",
       " 49\n",
       " 81"
      ]
     },
     "execution_count": 39,
     "metadata": {},
     "output_type": "execute_result"
    }
   ],
   "source": [
    "# массив квадратов элементов, если квадрат не делится на 5 или 4:\n",
    "ar_2=[i^2 for i=1:10 if (i^2%5!=0 && i^2%4!=0)]"
   ]
  },
  {
   "cell_type": "code",
   "execution_count": 40,
   "id": "accc55a4-f1f9-4508-8d80-f7ce6ee99c9d",
   "metadata": {},
   "outputs": [
    {
     "data": {
      "text/plain": [
       "5-element Vector{Float64}:\n",
       " 1.0\n",
       " 1.0\n",
       " 1.0\n",
       " 1.0\n",
       " 1.0"
      ]
     },
     "execution_count": 40,
     "metadata": {},
     "output_type": "execute_result"
    }
   ],
   "source": [
    "# одномерный массив из пяти единиц:\n",
    "ones(5)"
   ]
  },
  {
   "cell_type": "code",
   "execution_count": 41,
   "id": "54d908f5-1b63-4f51-9f94-92437d39592e",
   "metadata": {},
   "outputs": [
    {
     "data": {
      "text/plain": [
       "2×3 Matrix{Float64}:\n",
       " 1.0  1.0  1.0\n",
       " 1.0  1.0  1.0"
      ]
     },
     "execution_count": 41,
     "metadata": {},
     "output_type": "execute_result"
    }
   ],
   "source": [
    "# двумерный массив 2x3 из единиц:\n",
    "ones(2,3)"
   ]
  },
  {
   "cell_type": "code",
   "execution_count": 42,
   "id": "0d5c2364-04cf-4e91-8d20-46f7186c37fb",
   "metadata": {},
   "outputs": [
    {
     "data": {
      "text/plain": [
       "4-element Vector{Float64}:\n",
       " 0.0\n",
       " 0.0\n",
       " 0.0\n",
       " 0.0"
      ]
     },
     "execution_count": 42,
     "metadata": {},
     "output_type": "execute_result"
    }
   ],
   "source": [
    "# одномерный массив из 4 нулей:\n",
    "zeros(4)"
   ]
  },
  {
   "cell_type": "code",
   "execution_count": 43,
   "id": "e59a2247-30a1-4a01-bb9c-d68e3fabfdf8",
   "metadata": {},
   "outputs": [
    {
     "data": {
      "text/plain": [
       "3×2 Matrix{Float64}:\n",
       " 3.5  3.5\n",
       " 3.5  3.5\n",
       " 3.5  3.5"
      ]
     },
     "execution_count": 43,
     "metadata": {},
     "output_type": "execute_result"
    }
   ],
   "source": [
    "# заполнить массив 3x2 цифрами 3.5\n",
    "fill(3.5,(3,2))"
   ]
  },
  {
   "cell_type": "code",
   "execution_count": 44,
   "id": "fcde4a9e-39f1-4e88-ab4a-d453212fe246",
   "metadata": {},
   "outputs": [
    {
     "data": {
      "text/plain": [
       "6×3 Matrix{Int64}:\n",
       " 1  1  1\n",
       " 2  2  2\n",
       " 1  1  1\n",
       " 2  2  2\n",
       " 1  1  1\n",
       " 2  2  2"
      ]
     },
     "execution_count": 44,
     "metadata": {},
     "output_type": "execute_result"
    }
   ],
   "source": [
    "# заполнение массива посредством функции repeat():\n",
    "repeat([1,2],3,3)"
   ]
  },
  {
   "cell_type": "code",
   "execution_count": 45,
   "id": "306f01f6-42ec-4609-b7bb-1b04d4047b9b",
   "metadata": {},
   "outputs": [
    {
     "data": {
      "text/plain": [
       "3×6 Matrix{Int64}:\n",
       " 1  2  1  2  1  2\n",
       " 1  2  1  2  1  2\n",
       " 1  2  1  2  1  2"
      ]
     },
     "execution_count": 45,
     "metadata": {},
     "output_type": "execute_result"
    }
   ],
   "source": [
    "repeat([1 2],3,3)"
   ]
  },
  {
   "cell_type": "code",
   "execution_count": 46,
   "id": "801fbb51-6ed3-4861-9d2f-0b571ed32598",
   "metadata": {},
   "outputs": [
    {
     "data": {
      "text/plain": [
       "12-element Vector{Int64}:\n",
       "  1\n",
       "  2\n",
       "  3\n",
       "  4\n",
       "  5\n",
       "  6\n",
       "  7\n",
       "  8\n",
       "  9\n",
       " 10\n",
       " 11\n",
       " 12"
      ]
     },
     "execution_count": 46,
     "metadata": {},
     "output_type": "execute_result"
    }
   ],
   "source": [
    "# преобразование одномерного массива из целых чисел от 1 до 12\n",
    "# в двумерный массив 2x6\n",
    "a = collect(1:12)"
   ]
  },
  {
   "cell_type": "code",
   "execution_count": 47,
   "id": "5a59d686-245e-42b0-babb-effaf226e6ca",
   "metadata": {},
   "outputs": [
    {
     "data": {
      "text/plain": [
       "2×6 Matrix{Int64}:\n",
       " 1  3  5  7   9  11\n",
       " 2  4  6  8  10  12"
      ]
     },
     "execution_count": 47,
     "metadata": {},
     "output_type": "execute_result"
    }
   ],
   "source": [
    "b = reshape(a,(2,6))"
   ]
  },
  {
   "cell_type": "code",
   "execution_count": 48,
   "id": "105d82d0-6ec7-4474-9335-8e7dd2dd0b2d",
   "metadata": {},
   "outputs": [
    {
     "data": {
      "text/plain": [
       "6×2 adjoint(::Matrix{Int64}) with eltype Int64:\n",
       "  1   2\n",
       "  3   4\n",
       "  5   6\n",
       "  7   8\n",
       "  9  10\n",
       " 11  12"
      ]
     },
     "execution_count": 48,
     "metadata": {},
     "output_type": "execute_result"
    }
   ],
   "source": [
    "# транспонирование\n",
    "b'"
   ]
  },
  {
   "cell_type": "code",
   "execution_count": 49,
   "id": "131e1c7d-5ffe-481d-8816-609f0228be58",
   "metadata": {},
   "outputs": [
    {
     "data": {
      "text/plain": [
       "6×2 transpose(::Matrix{Int64}) with eltype Int64:\n",
       "  1   2\n",
       "  3   4\n",
       "  5   6\n",
       "  7   8\n",
       "  9  10\n",
       " 11  12"
      ]
     },
     "execution_count": 49,
     "metadata": {},
     "output_type": "execute_result"
    }
   ],
   "source": [
    "# транспонирование\n",
    "с = transpose(b)"
   ]
  },
  {
   "cell_type": "code",
   "execution_count": 50,
   "id": "883a7642-3506-4810-bd78-659372a73902",
   "metadata": {},
   "outputs": [
    {
     "data": {
      "text/plain": [
       "10×5 Matrix{Int64}:\n",
       " 20  10  18  16  11\n",
       " 17  17  17  10  19\n",
       " 11  15  17  19  15\n",
       " 14  11  19  18  18\n",
       " 18  10  17  16  20\n",
       " 19  13  12  18  18\n",
       " 13  16  14  19  16\n",
       " 16  16  13  18  16\n",
       " 14  17  14  13  14\n",
       " 15  16  14  13  16"
      ]
     },
     "execution_count": 50,
     "metadata": {},
     "output_type": "execute_result"
    }
   ],
   "source": [
    "# массив 10x5 целых чисел в диапазоне [10, 20]:\n",
    "ar = rand(10:20, 10, 5)"
   ]
  },
  {
   "cell_type": "code",
   "execution_count": 51,
   "id": "e80afd04-8a76-4c21-9369-503590f9034e",
   "metadata": {},
   "outputs": [
    {
     "data": {
      "text/plain": [
       "10-element Vector{Int64}:\n",
       " 10\n",
       " 17\n",
       " 15\n",
       " 11\n",
       " 10\n",
       " 13\n",
       " 16\n",
       " 16\n",
       " 17\n",
       " 16"
      ]
     },
     "execution_count": 51,
     "metadata": {},
     "output_type": "execute_result"
    }
   ],
   "source": [
    "# выбор всех значений строки в столбце 2:\n",
    "ar[:, 2]"
   ]
  },
  {
   "cell_type": "code",
   "execution_count": 52,
   "id": "3ca34313-1230-4a2b-b72c-a2b098d3e88f",
   "metadata": {},
   "outputs": [
    {
     "data": {
      "text/plain": [
       "10×2 Matrix{Int64}:\n",
       " 10  11\n",
       " 17  19\n",
       " 15  15\n",
       " 11  18\n",
       " 10  20\n",
       " 13  18\n",
       " 16  16\n",
       " 16  16\n",
       " 17  14\n",
       " 16  16"
      ]
     },
     "execution_count": 52,
     "metadata": {},
     "output_type": "execute_result"
    }
   ],
   "source": [
    "# выбор всех значений в столбцах 2 и 5:\n",
    "ar[:, [2, 5]]"
   ]
  },
  {
   "cell_type": "code",
   "execution_count": 53,
   "id": "d873d4bc-d679-40dd-9858-b9a0846264f6",
   "metadata": {},
   "outputs": [
    {
     "data": {
      "text/plain": [
       "10×3 Matrix{Int64}:\n",
       " 10  18  16\n",
       " 17  17  10\n",
       " 15  17  19\n",
       " 11  19  18\n",
       " 10  17  16\n",
       " 13  12  18\n",
       " 16  14  19\n",
       " 16  13  18\n",
       " 17  14  13\n",
       " 16  14  13"
      ]
     },
     "execution_count": 53,
     "metadata": {},
     "output_type": "execute_result"
    }
   ],
   "source": [
    "# все значения строк в столбцах 2, 3 и 4:\n",
    "ar[:, 2:4]"
   ]
  },
  {
   "cell_type": "code",
   "execution_count": 54,
   "id": "527864a1-d2c5-460b-ae36-602c956ce1c3",
   "metadata": {},
   "outputs": [
    {
     "data": {
      "text/plain": [
       "3×2 Matrix{Int64}:\n",
       " 17  19\n",
       " 14  18\n",
       " 19  18"
      ]
     },
     "execution_count": 54,
     "metadata": {},
     "output_type": "execute_result"
    }
   ],
   "source": [
    "# значения в строках 2, 4, 6 и в столбцах 1 и 5:\n",
    "ar[[2, 4, 6], [1, 5]]"
   ]
  },
  {
   "cell_type": "code",
   "execution_count": 55,
   "id": "2edec568-262a-432e-9ee2-466cf562bb40",
   "metadata": {},
   "outputs": [
    {
     "data": {
      "text/plain": [
       "3-element Vector{Int64}:\n",
       " 18\n",
       " 16\n",
       " 11"
      ]
     },
     "execution_count": 55,
     "metadata": {},
     "output_type": "execute_result"
    }
   ],
   "source": [
    "# значения в строке 1 от столбца 3 до последнего столбца:\n",
    "ar[1, 3:end]"
   ]
  },
  {
   "cell_type": "code",
   "execution_count": 56,
   "id": "1dc8a622-f999-4d19-b609-0dc73e85bf5b",
   "metadata": {},
   "outputs": [
    {
     "data": {
      "text/plain": [
       "10×5 Matrix{Int64}:\n",
       " 11  10  12  10  11\n",
       " 13  10  13  13  14\n",
       " 14  11  14  13  15\n",
       " 14  13  14  16  16\n",
       " 15  15  14  16  16\n",
       " 16  16  17  18  16\n",
       " 17  16  17  18  18\n",
       " 18  16  17  18  18\n",
       " 19  17  18  19  19\n",
       " 20  17  19  19  20"
      ]
     },
     "execution_count": 56,
     "metadata": {},
     "output_type": "execute_result"
    }
   ],
   "source": [
    "# сортировка по столбцам:\n",
    "sort(ar,dims=1)"
   ]
  },
  {
   "cell_type": "code",
   "execution_count": 57,
   "id": "31caf182-520b-45bb-806d-064a76f7a623",
   "metadata": {},
   "outputs": [
    {
     "data": {
      "text/plain": [
       "10×5 Matrix{Int64}:\n",
       " 10  11  16  18  20\n",
       " 10  17  17  17  19\n",
       " 11  15  15  17  19\n",
       " 11  14  18  18  19\n",
       " 10  16  17  18  20\n",
       " 12  13  18  18  19\n",
       " 13  14  16  16  19\n",
       " 13  16  16  16  18\n",
       " 13  14  14  14  17\n",
       " 13  14  15  16  16"
      ]
     },
     "execution_count": 57,
     "metadata": {},
     "output_type": "execute_result"
    }
   ],
   "source": [
    "# сортировка по строкам:\n",
    "sort(ar,dims=2)"
   ]
  },
  {
   "cell_type": "code",
   "execution_count": 58,
   "id": "aef9e1a3-f3c1-45ee-ac7b-abb8612e8fc0",
   "metadata": {},
   "outputs": [
    {
     "data": {
      "text/plain": [
       "10×5 BitMatrix:\n",
       " 1  0  1  1  0\n",
       " 1  1  1  0  1\n",
       " 0  1  1  1  1\n",
       " 0  0  1  1  1\n",
       " 1  0  1  1  1\n",
       " 1  0  0  1  1\n",
       " 0  1  0  1  1\n",
       " 1  1  0  1  1\n",
       " 0  1  0  0  0\n",
       " 1  1  0  0  1"
      ]
     },
     "execution_count": 58,
     "metadata": {},
     "output_type": "execute_result"
    }
   ],
   "source": [
    "# поэлементное сравнение с числом\n",
    "# (результат - массив логических значений):\n",
    "ar .> 14"
   ]
  },
  {
   "cell_type": "code",
   "execution_count": 59,
   "id": "ff1b9f2a-abc7-435e-99d1-02aa2375ff91",
   "metadata": {},
   "outputs": [
    {
     "data": {
      "text/plain": [
       "32-element Vector{CartesianIndex{2}}:\n",
       " CartesianIndex(1, 1)\n",
       " CartesianIndex(2, 1)\n",
       " CartesianIndex(5, 1)\n",
       " CartesianIndex(6, 1)\n",
       " CartesianIndex(8, 1)\n",
       " CartesianIndex(10, 1)\n",
       " CartesianIndex(2, 2)\n",
       " CartesianIndex(3, 2)\n",
       " CartesianIndex(7, 2)\n",
       " CartesianIndex(8, 2)\n",
       " CartesianIndex(9, 2)\n",
       " CartesianIndex(10, 2)\n",
       " CartesianIndex(1, 3)\n",
       " ⋮\n",
       " CartesianIndex(5, 4)\n",
       " CartesianIndex(6, 4)\n",
       " CartesianIndex(7, 4)\n",
       " CartesianIndex(8, 4)\n",
       " CartesianIndex(2, 5)\n",
       " CartesianIndex(3, 5)\n",
       " CartesianIndex(4, 5)\n",
       " CartesianIndex(5, 5)\n",
       " CartesianIndex(6, 5)\n",
       " CartesianIndex(7, 5)\n",
       " CartesianIndex(8, 5)\n",
       " CartesianIndex(10, 5)"
      ]
     },
     "execution_count": 59,
     "metadata": {},
     "output_type": "execute_result"
    }
   ],
   "source": [
    "# возврат индексов элементов массива, удовлетворяющих условию:\n",
    "findall(ar .> 14)"
   ]
  },
  {
   "cell_type": "markdown",
   "id": "9066b78c-25fd-44f4-bb8f-4dcee3d5d62b",
   "metadata": {},
   "source": [
    "##  Задания для самостоятельного выполнения"
   ]
  },
  {
   "cell_type": "code",
   "execution_count": 60,
   "id": "7d7c23c5-1e89-448c-8e6a-b07fa56a8584",
   "metadata": {},
   "outputs": [
    {
     "name": "stdout",
     "output_type": "stream",
     "text": [
      "P: Set([0, 4, 7, 9, 3, 1])\n"
     ]
    }
   ],
   "source": [
    "# Задания 1\n",
    "# Определение множеств\n",
    "A = Set([0, 3, 4, 9])\n",
    "B = Set([1, 3, 4, 7])\n",
    "C = Set([0, 1, 2, 4, 7, 8, 9])\n",
    "\n",
    "# Вычисление пересечений и объединений\n",
    "P = union(intersect(A, B), intersect(A, B), intersect(A, C), intersect(B, C))\n",
    "\n",
    "# вывод\n",
    "println(\"P: \",P)"
   ]
  },
  {
   "cell_type": "code",
   "execution_count": 61,
   "id": "0862c580-43f7-4dce-a162-4f68e002aace",
   "metadata": {},
   "outputs": [
    {
     "name": "stdout",
     "output_type": "stream",
     "text": [
      "Множество 1 : Set(Any[\"hello\", 3.14, [1, 2, 3], 1])\n",
      "Множество 2 : Set(Any[2, 3.14, 1, \"world\"])\n",
      "Пересечение : Set(Any[3.14, 1])\n",
      "Объединение : Set(Any[2, \"hello\", 3.14, [1, 2, 3], 1, \"world\"])\n",
      "Эквивалентности множеств : false\n",
      "Подмножество : false\n"
     ]
    }
   ],
   "source": [
    "# Задания 2\n",
    "# Создание множество \n",
    "set1 = Set([1, \"hello\", 3.14, [1, 2, 3]])\n",
    "set2 = Set([1, 2, \"world\", 3.14])\n",
    "\n",
    "intersection_set = intersect(set1, set2)\n",
    "union_set = union(set1, set2)\n",
    "isequal_set = issetequal(set1, set2)\n",
    "sub_set = issubset(set1, set2)\n",
    "\n",
    "println(\"Множество 1 : \", set1)\n",
    "println(\"Множество 2 : \", set2)\n",
    "println(\"Пересечение : \", intersection_set)\n",
    "println(\"Объединение : \", union_set)\n",
    "println(\"Эквивалентности множеств : \", isequal_set)\n",
    "println(\"Подмножество : \", sub_set)"
   ]
  },
  {
   "cell_type": "code",
   "execution_count": 62,
   "id": "141a316b-2e86-4031-93a3-9f5a8c686253",
   "metadata": {},
   "outputs": [
    {
     "name": "stdout",
     "output_type": "stream",
     "text": [
      "Задания 3.1 : [1, 2, 3, 4, 5, 6, 7, 8, 9, 10, 11, 12, 13, 14, 15, 16, 17, 18, 19, 20, 21, 22, 23, 24, 25]\n",
      "Задания 3.2 : [25, 24, 23, 22, 21, 20, 19, 18, 17, 16, 15, 14, 13, 12, 11, 10, 9, 8, 7, 6, 5, 4, 3, 2, 1]\n",
      "Задания 3.3 : [1, 2, 3, 4, 5, 6, 7, 8, 9, 10, 11, 12, 13, 14, 15, 16, 17, 18, 19, 20, 21, 22, 23, 24, 25, 24, 23, 22, 21, 20, 19, 18, 17, 16, 15, 14, 13, 12, 11, 10, 9, 8, 7, 6, 5, 4, 3, 2, 1]\n"
     ]
    }
   ],
   "source": [
    "# Задания 3\n",
    "# Задания 3.1 до 3.3\n",
    "N = 25\n",
    "array_3_1 = collect(1:N)\n",
    "array_3_2 = reverse(collect(1:N))\n",
    "array_3_3 = [1:N; N-1:-1:1]\n",
    "\n",
    "println(\"Задания 3.1 : \", array_3_1)\n",
    "println(\"Задания 3.2 : \", array_3_2)\n",
    "println(\"Задания 3.3 : \", array_3_3)"
   ]
  },
  {
   "cell_type": "code",
   "execution_count": 63,
   "id": "d2acfc3b-84e9-450c-b84d-0e7a1d714ac7",
   "metadata": {},
   "outputs": [
    {
     "name": "stdout",
     "output_type": "stream",
     "text": [
      "Задания 3.5 : [4, 4, 4, 4, 4, 4, 4, 4, 4, 4]\n",
      "Задания 3.6 : [[4, 6, 3], [4, 6, 3], [4, 6, 3], [4, 6, 3], [4, 6, 3], [4, 6, 3], [4, 6, 3], [4, 6, 3], [4, 6, 3], [4, 6, 3]]\n",
      "Задания 3.7 : [4, 4, 4, 4, 4, 4, 4, 4, 4, 4, 4, 6, 6, 6, 6, 6, 6, 6, 6, 6, 6, 3, 3, 3, 3, 3, 3, 3, 3, 3, 3]\n",
      "Задания 3.8 : [4, 4, 4, 4, 4, 4, 4, 4, 4, 4, 6, 6, 6, 6, 6, 6, 6, 6, 6, 6, 6, 6, 6, 6, 6, 6, 6, 6, 6, 6, 3, 3, 3, 3, 3, 3, 3, 3, 3, 3, 3, 3, 3, 3, 3, 3, 3, 3, 3, 3, 3, 3, 3, 3, 3, 3, 3, 3, 3, 3]\n",
      "Задания 3.9 : [16; 64; 8;;; 16; 64; 8;;; 16; 64; 8;;; 16; 64; 8]\n",
      "Количество цифр 6 в результате 3.9 : 8\n"
     ]
    }
   ],
   "source": [
    "# Задания 3.4 до 3.9\n",
    "tmp = [4, 6, 3]\n",
    "\n",
    "array_3_5 = fill(tmp[1], 10)\n",
    "array_3_6 = repeat([tmp], 10)\n",
    "array_3_7 = vcat(fill(tmp[1], 11), fill(tmp[2], 10), fill(tmp[3], 10))\n",
    "array_3_8 = vcat(fill(tmp[1], 10), fill(tmp[2], 20), fill(tmp[3], 30))\n",
    "array_3_9 = repeat(2 .^ tmp, inner = [1, 1, 4])\n",
    "count_six = count(x -> x == '6', string(array_3_9))\n",
    "\n",
    "println(\"Задания 3.5 : \", array_3_5)\n",
    "println(\"Задания 3.6 : \", array_3_6)\n",
    "println(\"Задания 3.7 : \", array_3_7)\n",
    "println(\"Задания 3.8 : \", array_3_8)\n",
    "println(\"Задания 3.9 : \", array_3_9)\n",
    "println(\"Количество цифр 6 в результате 3.9 : \", count_six)"
   ]
  },
  {
   "cell_type": "code",
   "execution_count": 64,
   "id": "66c2f433-19b6-4920-bb8b-8f7a7aee8099",
   "metadata": {},
   "outputs": [
    {
     "name": "stdout",
     "output_type": "stream",
     "text": [
      "Задания 3.10. Среднее значение y : 53.11374594642971\n"
     ]
    }
   ],
   "source": [
    "# Задания 3.10\n",
    "using Statistics;\n",
    "x_values = 3:0.1:6\n",
    "y_values = [exp(x) * cos(x) for x in x_values]\n",
    "mean_y = mean(y_values)\n",
    "println(\"Задания 3.10. Среднее значение y : \", mean_y)"
   ]
  },
  {
   "cell_type": "code",
   "execution_count": null,
   "id": "4e7f8c8a-0a28-47cd-b7a7-ba21aba1ed59",
   "metadata": {},
   "outputs": [
    {
     "name": "stdout",
     "output_type": "stream",
     "text": [
      "Задания 3.11 : [(0.0010000000000000002, 0.2) (0.0010000000000000002, 0.0016000000000000003) (0.0010000000000000002, 1.2800000000000006e-5) (0.0010000000000000002, 1.0240000000000006e-7) (0.0010000000000000002, 8.192000000000005e-10) (0.0010000000000000002, 6.5536000000000055e-12) (0.0010000000000000002, 5.2428800000000056e-14) (0.0010000000000000002, 4.194304000000005e-16) (0.0010000000000000002, 3.3554432000000044e-18) (0.0010000000000000002, 2.684354560000004e-20) (0.0010000000000000002, 2.147483648000004e-22) (0.0010000000000000002, 1.7179869184000035e-24); (1.0000000000000004e-6, 0.2) (1.0000000000000004e-6, 0.0016000000000000003) (1.0000000000000004e-6, 1.2800000000000006e-5) (1.0000000000000004e-6, 1.0240000000000006e-7) (1.0000000000000004e-6, 8.192000000000005e-10) (1.0000000000000004e-6, 6.5536000000000055e-12) (1.0000000000000004e-6, 5.2428800000000056e-14) (1.0000000000000004e-6, 4.194304000000005e-16) (1.0000000000000004e-6, 3.3554432000000044e-18) (1.0000000000000004e-6, 2.684354560000004e-20) (1.0000000000000004e-6, 2.147483648000004e-22) (1.0000000000000004e-6, 1.7179869184000035e-24); (1.0000000000000005e-9, 0.2) (1.0000000000000005e-9, 0.0016000000000000003) (1.0000000000000005e-9, 1.2800000000000006e-5) (1.0000000000000005e-9, 1.0240000000000006e-7) (1.0000000000000005e-9, 8.192000000000005e-10) (1.0000000000000005e-9, 6.5536000000000055e-12) (1.0000000000000005e-9, 5.2428800000000056e-14) (1.0000000000000005e-9, 4.194304000000005e-16) (1.0000000000000005e-9, 3.3554432000000044e-18) (1.0000000000000005e-9, 2.684354560000004e-20) (1.0000000000000005e-9, 2.147483648000004e-22) (1.0000000000000005e-9, 1.7179869184000035e-24); (1.0000000000000008e-12, 0.2) (1.0000000000000008e-12, 0.0016000000000000003) (1.0000000000000008e-12, 1.2800000000000006e-5) (1.0000000000000008e-12, 1.0240000000000006e-7) (1.0000000000000008e-12, 8.192000000000005e-10) (1.0000000000000008e-12, 6.5536000000000055e-12) (1.0000000000000008e-12, 5.2428800000000056e-14) (1.0000000000000008e-12, 4.194304000000005e-16) (1.0000000000000008e-12, 3.3554432000000044e-18) (1.0000000000000008e-12, 2.684354560000004e-20) (1.0000000000000008e-12, 2.147483648000004e-22) (1.0000000000000008e-12, 1.7179869184000035e-24); (1.0000000000000009e-15, 0.2) (1.0000000000000009e-15, 0.0016000000000000003) (1.0000000000000009e-15, 1.2800000000000006e-5) (1.0000000000000009e-15, 1.0240000000000006e-7) (1.0000000000000009e-15, 8.192000000000005e-10) (1.0000000000000009e-15, 6.5536000000000055e-12) (1.0000000000000009e-15, 5.2428800000000056e-14) (1.0000000000000009e-15, 4.194304000000005e-16) (1.0000000000000009e-15, 3.3554432000000044e-18) (1.0000000000000009e-15, 2.684354560000004e-20) (1.0000000000000009e-15, 2.147483648000004e-22) (1.0000000000000009e-15, 1.7179869184000035e-24); (1.0000000000000008e-18, 0.2) (1.0000000000000008e-18, 0.0016000000000000003) (1.0000000000000008e-18, 1.2800000000000006e-5) (1.0000000000000008e-18, 1.0240000000000006e-7) (1.0000000000000008e-18, 8.192000000000005e-10) (1.0000000000000008e-18, 6.5536000000000055e-12) (1.0000000000000008e-18, 5.2428800000000056e-14) (1.0000000000000008e-18, 4.194304000000005e-16) (1.0000000000000008e-18, 3.3554432000000044e-18) (1.0000000000000008e-18, 2.684354560000004e-20) (1.0000000000000008e-18, 2.147483648000004e-22) (1.0000000000000008e-18, 1.7179869184000035e-24); (1.0000000000000012e-21, 0.2) (1.0000000000000012e-21, 0.0016000000000000003) (1.0000000000000012e-21, 1.2800000000000006e-5) (1.0000000000000012e-21, 1.0240000000000006e-7) (1.0000000000000012e-21, 8.192000000000005e-10) (1.0000000000000012e-21, 6.5536000000000055e-12) (1.0000000000000012e-21, 5.2428800000000056e-14) (1.0000000000000012e-21, 4.194304000000005e-16) (1.0000000000000012e-21, 3.3554432000000044e-18) (1.0000000000000012e-21, 2.684354560000004e-20) (1.0000000000000012e-21, 2.147483648000004e-22) (1.0000000000000012e-21, 1.7179869184000035e-24); (1.0000000000000012e-24, 0.2) (1.0000000000000012e-24, 0.0016000000000000003) (1.0000000000000012e-24, 1.2800000000000006e-5) (1.0000000000000012e-24, 1.0240000000000006e-7) (1.0000000000000012e-24, 8.192000000000005e-10) (1.0000000000000012e-24, 6.5536000000000055e-12) (1.0000000000000012e-24, 5.2428800000000056e-14) (1.0000000000000012e-24, 4.194304000000005e-16) (1.0000000000000012e-24, 3.3554432000000044e-18) (1.0000000000000012e-24, 2.684354560000004e-20) (1.0000000000000012e-24, 2.147483648000004e-22) (1.0000000000000012e-24, 1.7179869184000035e-24); (1.0000000000000015e-27, 0.2) (1.0000000000000015e-27, 0.0016000000000000003) (1.0000000000000015e-27, 1.2800000000000006e-5) (1.0000000000000015e-27, 1.0240000000000006e-7) (1.0000000000000015e-27, 8.192000000000005e-10) (1.0000000000000015e-27, 6.5536000000000055e-12) (1.0000000000000015e-27, 5.2428800000000056e-14) (1.0000000000000015e-27, 4.194304000000005e-16) (1.0000000000000015e-27, 3.3554432000000044e-18) (1.0000000000000015e-27, 2.684354560000004e-20) (1.0000000000000015e-27, 2.147483648000004e-22) (1.0000000000000015e-27, 1.7179869184000035e-24); (1.0000000000000017e-30, 0.2) (1.0000000000000017e-30, 0.0016000000000000003) (1.0000000000000017e-30, 1.2800000000000006e-5) (1.0000000000000017e-30, 1.0240000000000006e-7) (1.0000000000000017e-30, 8.192000000000005e-10) (1.0000000000000017e-30, 6.5536000000000055e-12) (1.0000000000000017e-30, 5.2428800000000056e-14) (1.0000000000000017e-30, 4.194304000000005e-16) (1.0000000000000017e-30, 3.3554432000000044e-18) (1.0000000000000017e-30, 2.684354560000004e-20) (1.0000000000000017e-30, 2.147483648000004e-22) (1.0000000000000017e-30, 1.7179869184000035e-24); (1.0000000000000018e-33, 0.2) (1.0000000000000018e-33, 0.0016000000000000003) (1.0000000000000018e-33, 1.2800000000000006e-5) (1.0000000000000018e-33, 1.0240000000000006e-7) (1.0000000000000018e-33, 8.192000000000005e-10) (1.0000000000000018e-33, 6.5536000000000055e-12) (1.0000000000000018e-33, 5.2428800000000056e-14) (1.0000000000000018e-33, 4.194304000000005e-16) (1.0000000000000018e-33, 3.3554432000000044e-18) (1.0000000000000018e-33, 2.684354560000004e-20) (1.0000000000000018e-33, 2.147483648000004e-22) (1.0000000000000018e-33, 1.7179869184000035e-24); (1.000000000000002e-36, 0.2) (1.000000000000002e-36, 0.0016000000000000003) (1.000000000000002e-36, 1.2800000000000006e-5) (1.000000000000002e-36, 1.0240000000000006e-7) (1.000000000000002e-36, 8.192000000000005e-10) (1.000000000000002e-36, 6.5536000000000055e-12) (1.000000000000002e-36, 5.2428800000000056e-14) (1.000000000000002e-36, 4.194304000000005e-16) (1.000000000000002e-36, 3.3554432000000044e-18) (1.000000000000002e-36, 2.684354560000004e-20) (1.000000000000002e-36, 2.147483648000004e-22) (1.000000000000002e-36, 1.7179869184000035e-24)]\n"
     ]
    }
   ],
   "source": [
    "# # Задания 3.11\n",
    "x_vector = [0.1^i for i in 3:3:36]\n",
    "y_vector = [0.2^j for j in 1:3:34]\n",
    "result_3_11 = [(x, y) for x in x_vector, y in y_vector]\n",
    "println(\"Задания 3.11 : \", result_3_11)"
   ]
  },
  {
   "cell_type": "code",
   "execution_count": null,
   "id": "6da9aac0-7baa-4568-803c-18f579e80c16",
   "metadata": {},
   "outputs": [
    {
     "name": "stdout",
     "output_type": "stream",
     "text": [
      "Задания 3.12 : [2.0, 2.0, 2.6666666666666665, 4.0, 6.4, 10.666666666666666, 18.285714285714285, 32.0, 56.888888888888886, 102.4, 186.1818181818182, 341.3333333333333, 630.1538461538462, 1170.2857142857142, 2184.5333333333333, 4096.0, 7710.117647058823, 14563.555555555555, 27594.105263157893, 52428.8, 99864.38095238095, 190650.18181818182, 364722.0869565217, 699050.6666666666, 1.34217728e6]\n"
     ]
    }
   ],
   "source": [
    "# Задания 3.12\n",
    "M = 25\n",
    "result_3_12 = [2^i / i for i in 1:M]\n",
    "println(\"Задания 3.12 : \", result_3_12)"
   ]
  },
  {
   "cell_type": "code",
   "execution_count": null,
   "id": "f4dcecee-0019-4260-8c2b-0940fbd274ac",
   "metadata": {},
   "outputs": [
    {
     "name": "stdout",
     "output_type": "stream",
     "text": [
      "Задания 3.13 : [\"fn1\", \"fn2\", \"fn3\", \"fn4\", \"fn5\", \"fn6\", \"fn7\", \"fn8\", \"fn9\", \"fn10\", \"fn11\", \"fn12\", \"fn13\", \"fn14\", \"fn15\", \"fn16\", \"fn17\", \"fn18\", \"fn19\", \"fn20\", \"fn21\", \"fn22\", \"fn23\", \"fn24\", \"fn25\", \"fn26\", \"fn27\", \"fn28\", \"fn29\", \"fn30\"]\n"
     ]
    }
   ],
   "source": [
    "# Задания 3.13\n",
    "N = 30\n",
    "result_3_13 = [\"fn$i\" for i in 1:N]\n",
    "println(\"Задания 3.13 : \", result_3_13)"
   ]
  },
  {
   "cell_type": "code",
   "execution_count": null,
   "id": "b6ee3c7c-8cab-4a86-a119-e2bdead31ba9",
   "metadata": {},
   "outputs": [
    {
     "data": {
      "text/plain": [
       "1-element Vector{Float64}:\n",
       " 1.4713467696164503e-5"
      ]
     },
     "execution_count": 68,
     "metadata": {},
     "output_type": "execute_result"
    }
   ],
   "source": [
    "# Задания 3.14\n",
    "# Создание векторов x и y целочисленного типа\n",
    "n = 250\n",
    "x = rand(0:999, n)\n",
    "y = rand(0:999, n)\n",
    "\n",
    "# Формирование векторов\n",
    "vector1 = y[2:end] .- x[1:end-1]\n",
    "vector2 = [x[i] + 2x[i+1] - x[i+2] for i in 1:n-2]\n",
    "vector3 = [sin(y[i]) / cos(x[i+1]) for i in 1:n-1]\n",
    "sum_expo = sum([exp(-x[i+1]) / (x[i] +10)] for i in 1:n-1)"
   ]
  },
  {
   "cell_type": "code",
   "execution_count": null,
   "id": "8df83520-ac42-4f22-8aaa-0a76e0da32b0",
   "metadata": {},
   "outputs": [
    {
     "name": "stdout",
     "output_type": "stream",
     "text": [
      "Задания 3.14.1 : [55, -123, -72, -83, 668, -58, 58, -446, -284, -925, 313, -65, 640, -62, 2, 514, -162, 419, 395, 890, 76, -529, -277, 586, -179, 370, 154, -621, 485, 45, 834, -82, 141, -490, -190, -370, -902, -487, 158, 822, -59, 377, -337, -30, -317, -80, -11, 32, 124, -240, -431, -558, -405, -301, 48, 21, 93, -1, 728, 395, -63, -129, -356, -691, -368, 328, 431, 57, 228, -148, 698, -151, -170, 10, -199, 296, -454, -657, 325, -83, -464, -403, 222, 321, 692, 80, -170, 181, 682, -47, -266, -22, -405, -130, -754, -271, -636, -98, 554, -95, 250, -799, 17, -291, -251, 7, 664, -150, 465, 83, -227, 486, 215, 62, 85, -332, 596, -105, -389, 419, 441, -763, 881, 54, -470, 180, -769, -7, -478, -397, 360, -17, -48, 489, 53, -23, 316, -60, 238, 512, 529, -522, 127, 46, -670, -410, 4, 153, 231, 51, 16, 30, -332, 265, -550, -800, 313, 323, -265, -279, -645, -597, -191, -632, -258, 325, -228, 179, 501, 148, -459, 556, 422, 39, 117, -156, -270, -78, 231, -652, 635, -768, -262, 338, 338, -601, 751, -175, 272, 513, -213, -333, -444, -83, 323, 123, -66, 421, 7, 713, -14, 393, 516, -130, -9, 344, -305, -706, -209, 194, -301, 786, 100, -490, -37, -587, 187, -317, 590, -197, -596, 306, -485, -669, 230, -259, 525, 82, -617, 669, 418, 285, 573, 212, -269, -12, 89, 339, 585, -735, -387, -95, -211, 88, 270, -103, 135, -939, -99]\n"
     ]
    }
   ],
   "source": [
    "# Вывод\n",
    "println(\"Задания 3.14.1 : \", vector1)"
   ]
  },
  {
   "cell_type": "code",
   "execution_count": null,
   "id": "859b742c-c65c-4126-8623-e4b23b94fbdd",
   "metadata": {},
   "outputs": [
    {
     "name": "stdout",
     "output_type": "stream",
     "text": [
      "Задания 3.14.2 : [797, 559, 2126, 134, 1467, 677, 533, 868, 2205, 995, 1986, 1245, 636, 99, 477, 539, 608, 1311, 377, -562, 985, 1728, 264, 1836, 1200, 952, 1353, 707, 2256, 313, 1943, 458, 894, 1709, 873, 1614, 2050, 2573, 450, 735, 124, 165, 819, 2320, 1375, 492, 1469, 459, 795, 1566, 2033, 1946, 1534, 1973, 1790, -148, 1839, 965, -174, 471, 1420, 1678, 2177, 1269, 995, 415, 1, 570, 1598, 997, 580, 157, 726, 2237, -10, 1103, 2009, 1467, -309, 1281, 1540, 1446, 1385, -110, 625, 2124, 1078, -122, 483, 1727, 2053, 1582, -156, 1625, 799, 1159, 2051, 1106, 787, -336, 1167, 1584, 1676, 1319, 1727, 56, 944, 1335, -122, 1077, 573, 1279, 1231, 1500, 1830, 1150, 244, 1012, 73, -97, 2129, 411, 1006, 1277, 817, 1758, 1015, 1363, 2476, 238, 1839, 1451, -670, 1351, 1476, 744, 1916, 1259, 100, -146, 1719, 1027, 173, 1645, 2241, 966, 638, -136, 1070, 1220, 961, 1687, 597, 1086, 2807, 562, 317, 957, 1603, 1724, 1782, 467, 1293, 1476, 373, 1749, 1511, 841, 460, 2136, 1262, 300, 1476, 1422, 1542, 1653, 933, 1195, 1874, 436, 1864, 974, 1316, 355, 1973, 795, 453, 130, -93, 1155, 429, 1953, 1652, 25, 356, 634, 1199, 1067, 432, 575, 144, -155, 2017, 815, 558, 476, 1075, 2778, 405, 1217, 115, 339, 1516, 2084, 2270, 190, 1905, 391, 752, 1835, 396, 1002, 2416, 67, 1580, 1723, -240, 1554, 999, 785, 362, 717, 55, 209, 852, 1477, 1320, 192, 1293, 1679, 468, 19, 1081, 303, 1659, 505, 1986, 517]\n"
     ]
    }
   ],
   "source": [
    "println(\"Задания 3.14.2 : \", vector2)"
   ]
  },
  {
   "cell_type": "code",
   "execution_count": null,
   "id": "b727a8dc-14cc-40e0-b382-2a65703f773d",
   "metadata": {},
   "outputs": [
    {
     "name": "stdout",
     "output_type": "stream",
     "text": [
      "Задания 3.14.3 : [-4.2808793402840335, 5.052782875536123, -24.33570707460792, 1.4823058801626103, -0.5644909464728004, -4.422173695396321, -0.683102130246784, 0.37899742612235077, -1.003975230287573, -0.7462479256211241, 1.412681973482235, 1.0265051250681847, -0.22868519211337449, 0.7513406222135456, -1.1842200852760154, -1.2587009945728846, 52.3130101719231, 1.5353269869137294, 1.3380421566214038, 1.0535207594687757, 0.4669966167554453, -0.2557246067049243, -0.5545181845530521, 2.8653067561499657, 1.0582733748736104, 1.18933985022893, 0.15582681371560447, -1.1215925811396859, 0.2892751044267637, 0.33540554674186807, 2.390796679509297, -0.6913063611935918, 3.3187864067852946, 0.7333265084887703, -2.5715551468126248, 2.264373022055517, 2.0457289116613135, 0.6865071819837713, -222.24343113422444, 1.0993931262200791, 0.46011923664239185, 0.23409224732110814, 0.035786869938577666, -0.05127218187227444, -1.0387472292383035, 0.7819933501169753, -0.9992744873818619, 0.9147156531528382, 0.43040443418854624, 1.3678290317705724, -0.8805159095798382, 0.5390234695353677, -8.390840384904005, 0.9967462374198038, 11.849672239158501, 0.990509586986053, -0.48427090334516265, 0.7514029775846133, -2.432201139512577, -1.0180356680971498, 0.7173652249277354, 1.0618145305890143, 3.3835590719811535, 59.40168858209957, 223.7900892550765, 1.1589798545700307, 0.2883984511937284, -0.28762025065969826, -1.299760793990263, 0.06881087869828703, -1.0315497911527314, 2.1320262463594624, -0.46296672964489566, -2.076064311720305, 0.9547880530821586, 0.10638536235684842, 0.2699158356096983, -1.0354742183855676, -5.451340110823241, 2.6663074897100083, 1.683371649172583, -1.834295745394386, -0.8119078808375647, -1.7156977017721824, 0.5563759589745295, 1.3961836425320304, 1.4297940596838652, 0.9947743386968448, 0.4383181582743446, 3.554011780044503, 4.520778661085813, -0.43016304449727016, 1.1397380401063637, 0.2830316562303011, -1.1739310265830076, 1.56005645226283, -0.26241322639053427, 0.6393761531412757, 34.508421290494105, -1.1193854731776434, -0.7166966651242712, -2.2374928746877005, 5.0402729900887735, -0.6443984804160445, 0.4708193014755981, 0.9013357481921925, 0.3237071391125778, -0.16909516077578174, -7.160715710837733, 0.5953759776777463, 2.5949971111152474, 1.866892253142524, 1.1009593280560437, -0.34491635207026333, 1.5271930810432672, 0.9379017672955017, 0.14150447216069034, 1.9694563370773377, -0.9510919109535582, -1.418462505192518, -10.98720946421173, 1.4065253028237519, 0.9207872118767911, 0.7960875319599412, 0.7902339311580375, -2.0986526997503643, 1.096077166058681, -0.8244264973175979, 0.5764816317467157, 1.5447158279115927, 0.05954144091639259, 0.6053785061796935, 1.0777484950942513, -0.8900996957946974, -1.6680529123904337, 8.528831590456477, 0.9606063647282347, -8.294582391187639, 0.582049633941887, -0.705024522476706, 6.453136935798458, 1.047832674540648, -1.2301347486665706, -0.8714510204511889, -0.37614193958937114, -0.15874813844697855, 8.97145732933411, -0.7294749042577021, -0.8908384786358121, 1.022885835225842, -0.04555503054421865, 0.1876528400206289, 1.5931836497529126, 0.15575818662959315, 5.69915212831511, -1.187528858269559, -0.535526739636748, -0.5479426823335564, -0.11368737917212413, 1.026098926326431, 10.337441023571342, 0.37671517284997186, 1.4740852271915177, -0.5138307580331412, 3.3550589872594654, -1.324815385461884, 1.68212444286165, -1.194959760891434, 2.0282691100429373, 6.300084369270641, 224.46258945631556, 1.1445808044406331, 2.1153100206973514, -0.8286571016805676, 0.49867084177469245, 1.316854896689413, 0.03538800291004014, 0.6180042004154426, 0.8638693335790141, -0.9848752913083969, -0.9308476226890344, 0.044656544378210164, -0.7326646908221306, -1.2776501780867493, -12.952724854824606, 0.7688991265256385, -0.6420386471957671, -0.8115970637475934, 2.0572978389365093, 1.778064054191766, 2.038309072678393, 25.157467158973393, 1.6962328541196354, -0.47559533508358426, -1.1103545822076935, 0.604538082442611, 0.45787847276221516, 0.43036405336076894, 1.7959341517427234, -0.4779592091974881, -1.5209971839936778, -1.2133411318425014, 10.607844165546675, 0.18723248948769688, -0.7995468421170088, -0.7841381811721081, -1.643291431239926, 4.728844935554779, 0.8260734213361532, -0.6612699013967798, -0.6091101680940102, 0.6181408957932567, 0.5387481447396844, 1.3580532912159615, -0.9578249296191558, 0.33762179208161125, -0.36232713981731934, 0.9661567998452543, -0.89736204073324, -1.1819402025300685, 0.07737279758919897, 0.5134478137267597, -0.937255696509827, 0.29652562594191356, -0.874440362925171, -0.8741991393591756, -1.2984755738362925, -1.0216486808635774, 2.1333009846026543, 1.0227003458457549, 0.9989740957433497, 0.6814138609303101, -0.9934616206666407, -77.80931234090802, 2.5138244302215162, -2.965141486042316, 3.2569317858236007, -9.948786805419987, 3.8516596345697964, 1.160589515533182, -9.76297665274825, 1.584958829678183, 0.743288678883334, -1.7567226312003477, -0.4367276554755504, 1.0719776008140873, -0.8100164837372955, -1.0906922396299186, -0.5309225446957656]\n"
     ]
    }
   ],
   "source": [
    "println(\"Задания 3.14.3 : \", vector3)"
   ]
  },
  {
   "cell_type": "code",
   "execution_count": null,
   "id": "55114223-262e-48ef-8605-0ab2796ab658",
   "metadata": {},
   "outputs": [
    {
     "name": "stdout",
     "output_type": "stream",
     "text": [
      "Задания 3.14.4 : [1.4713467696164503e-5]\n"
     ]
    }
   ],
   "source": [
    "println(\"Задания 3.14.4 : \", sum_expo)"
   ]
  },
  {
   "cell_type": "code",
   "execution_count": null,
   "id": "7599343a-f8cf-4850-b865-61dccd42e4ef",
   "metadata": {},
   "outputs": [
    {
     "name": "stdout",
     "output_type": "stream",
     "text": [
      "Значение больше 600 : [966, 726, 730, 741, 768, 842, 923, 849, 807, 859, 895, 887, 793, 779, 744, 996, 997, 993, 875, 981, 833, 677, 681, 701, 912, 910, 831, 714, 694, 754, 992, 651, 619, 730, 842, 742, 769, 765, 652, 836, 675, 768, 684, 866, 747, 606, 713, 852, 827, 993, 680, 868, 917, 841, 990, 780, 739, 947, 989, 836, 766, 843, 776, 609, 625, 801, 707, 706, 680, 926, 658, 900, 833, 905, 784, 622, 953, 955, 976, 634, 824, 753, 984, 887, 845, 792, 763, 782, 836, 709, 914, 674, 701, 953, 916, 767, 880, 763, 790, 841, 653, 739]\n",
      "Индексы : [2, 5, 6, 7, 12, 13, 14, 17, 19, 20, 21, 25, 26, 27, 28, 30, 31, 32, 33, 40, 41, 45, 46, 49, 56, 59, 60, 63, 67, 70, 72, 75, 76, 80, 84, 85, 86, 87, 88, 90, 92, 93, 99, 100, 104, 107, 108, 110, 113, 114, 115, 116, 118, 122, 124, 125, 127, 133, 136, 138, 139, 142, 151, 153, 155, 159, 167, 168, 169, 170, 171, 173, 174, 175, 176, 177, 180, 182, 185, 186, 188, 191, 199, 201, 204, 205, 207, 210, 213, 214, 216, 220, 227, 228, 231, 232, 234, 238, 239, 240, 245, 247]\n"
     ]
    }
   ],
   "source": [
    "# Задания 3.14.5\n",
    "# выберите элементы вектора y, значения больше 600\n",
    "indices_gt_600 = findall(y .> 600)\n",
    "values_gt_600 = y[indices_gt_600]\n",
    "\n",
    "println(\"Значение больше 600 : \", values_gt_600)\n",
    "println(\"Индексы : \", indices_gt_600)"
   ]
  },
  {
   "cell_type": "code",
   "execution_count": null,
   "id": "5b19cb60-ce97-4484-8e2b-cd4af705c96f",
   "metadata": {},
   "outputs": [
    {
     "name": "stdout",
     "output_type": "stream",
     "text": [
      "Значения 𝑥, соответствующие значениям > 600 : [228, 62, 799, 193, 907, 283, 228, 296, 464, 5, 97, 972, 409, 590, 637, 952, 159, 957, 130, 11, 395, 998, 383, 258, 523, 103, 152, 847, 125, 683, 274, 818, 40, 96, 421, 77, 685, 822, 205, 635, 790, 468, 312, 300, 762, 49, 641, 80, 778, 618, 783, 684, 176, 919, 726, 555, 856, 248, 530, 826, 256, 853, 537, 734, 857, 665, 934, 501, 425, 510, 985, 411, 866, 667, 778, 681, 736, 940, 296, 875, 226, 645, 339, 255, 922, 156, 436, 19, 609, 929, 747, 684, 428, 93, 349, 160, 57, 451, 256, 771, 290, 315]\n"
     ]
    }
   ],
   "source": [
    "# Задания 3.14.6\n",
    "x_values_gt_600 = x[indices_gt_600]\n",
    "println(\"Значения 𝑥, соответствующие значениям > 600 : \", x_values_gt_600)"
   ]
  },
  {
   "cell_type": "code",
   "execution_count": null,
   "id": "0802ae88-d222-43df-8360-73fddb55e4cb",
   "metadata": {},
   "outputs": [
    {
     "name": "stdout",
     "output_type": "stream",
     "text": [
      "Задания 3.14.7 : [19.76238851960967, 17.10111107501498, 7.0393181487982215, 16.986818418997714, 21.411398833331745, 16.689877171507284, 18.09552430851342, 3.5281723313919886, 12.472048749102932, 21.71524809897414, 8.089993819527923, 19.660925715743907, 15.40934781228589, 17.10111107501498, 20.43154423923948, 13.617929358019154, 14.98158870080206, 11.508605475903671, 7.513188404399292, 22.70347990947643, 20.577852171691777, 15.509738875945011, 10.656078077792037, 14.813777371082637, 21.249752939740265, 10.556893482459694, 8.339784169869148, 10.795925157206307, 3.0737599125500967, 20.773829690261735, 19.01178581827599, 20.89382683952368, 19.759757083527113, 15.445128681885432, 15.282408187193536, 6.127968668327215, 21.830071003091128, 20.434089164922426, 17.394021961582087, 22.570954787070928, 11.200357137163081, 21.31778600136515, 10.837342847764852, 13.65840400632519, 21.8529631858016, 11.723821902434375, 11.46507740924587, 12.188191006051719, 16.2002469116986, 14.337084780386842, 19.863333053644347, 21.669148575797806, 18.48112550685158, 15.733785304242588, 18.535155785695462, 1.5974980438172752, 20.011196865754933, 19.76238851960967, 20.43154423923948, 19.194999348788734, 7.781516561699269, 17.959732737432372, 18.070749846091058, 18.399782607411428, 11.508605475903671, 12.427710971856401, 19.885874383591986, 17.87310829150878, 2.356268236003707, 12.749588228644877, 15.048189259841198, 15.69866236339899, 16.07631798640472, 10.979617479675694, 17.24969564948901, 21.919124070090028, 19.68634044204255, 15.249655733819043, 10.744673098796444, 20.602135811609436, 19.635478094510457, 10.322402821048984, 9.977574855645035, 9.972361806513037, 21.058205051713216, 12.82778234926053, 17.36525266156528, 17.760855835234967, 19.142831556486097, 10.70289680413672, 20.507364530821604, 16.41803885974205, 7.242099143204267, 19.402267908675007, 19.787672930387746, 13.320960926299573, 16.689877171507284, 16.172569369150963, 14.43772835317246, 14.847491370598602, 19.885874383591986, 19.11941421696805, 14.47591102487163, 15.5419432504433, 7.586303447661451, 8.862956617291998, 21.712853336215396, 10.979617479675694, 11.551969529045685, 20.986853027550367, 12.188191006051719, 13.395820243643163, 16.04842671416734, 9.876841600430778, 16.203456421393554, 12.788745051802387, 14.122605991813266, 18.559310332013958, 9.562844765026774, 22.32594902798087, 10.97488040937121, 19.96376717956809, 20.284181028574952, 14.337084780386842, 5.878094929481832, 6.209025688463531, 18.318078501851662, 2.729102416546506, 18.61590717639084, 19.067039623391988, 19.01178581827599, 21.060674253214213, 16.505998909487424, 22.615216116588407, 20.385092592382307, 3.0906310035331006, 0.6693280212272448, 17.480045766530477, 16.261857212508048, 21.010663959047083, 14.368298437880526, 18.236008335159315, 14.813777371082637, 9.61498829952486, 21.530257778298893, 15.183938882911773, 16.59662616316943, 15.666780141433017, 19.064312208941605, 14.302167667874686, 4.068414924758784, 7.651927861656827, 14.613418491236061, 12.6668070167663, 18.345353635185123, 21.62295076995737, 22.236186723446984, 6.515212966588274, 12.022978000478917, 18.18108907629023, 15.606152632856057, 11.59965516728838, 15.114496352839547, 15.860390915737229, 4.748894608222004, 11.766392820231696, 20.33597797009035, 4.409988662116942, 9.769749229125585, 3.2323366161339044, 21.553468398380804, 13.28337306560348, 10.461739817066757, 18.589029022517558, 12.105866346528034, 16.04842671416734, 12.67091156941757, 5.783424591018714, 14.19690107030404, 14.681689276101713, 14.15796595560252, 20.48296853485842, 13.581163425863043, 10.842140010164046, 14.98158870080206, 18.829551242661097, 21.15296669500522, 17.15948717182422, 21.17659084933172, 16.746581740761307, 11.160286734667709, 12.060182419847553, 21.108102709623147, 12.901472784143676, 22.32594902798087, 12.142816806655693, 10.413836948982828, 6.523189403964905, 13.470263546048384, 18.613113656774356, 16.29257499599127, 20.284181028574952, 13.83647353916452, 20.03876243683726, 19.090521208180775, 10.072139792516781, 9.189559293023795, 17.16251729787912, 21.69221058352514, 22.393034631331233, 10.176050314341023, 21.68981327720458, 9.41020722407323, 20.212669294281742, 20.749746986409257, 15.051644428433725, 18.586231463101928, 19.660925715743907, 20.89133791790272, 12.788745051802387, 13.399701489212363, 16.475679045186574, 16.7795113158876, 18.18108907629023, 20.795384103209056, 20.965495462783608, 9.61498829952486, 20.67481559772662, 18.263406035019866, 16.53626318126317, 13.093815333965878, 18.985468126964896, 14.609859684473358, 21.527842437178883, 12.427710971856401, 7.716994233508278, 12.391610064878575, 8.333546663936069, 16.261857212508048, 15.828834448562535, 3.9303943822471528, 20.456001564333143, 16.716698238587664, 6.674728458896288, 15.1805138252959, 17.931871068017415, 14.333457363804449, 21.131777019455793, 16.045186193996003, 21.343664165273967]"
     ]
    }
   ],
   "source": [
    "# Задания 3.14.7\n",
    "using Statistics\n",
    "mean_x = mean(x)\n",
    "sqrt_vec = abs.(x .- mean_x) .^ (1/2)\n",
    "print(\"Задания 3.14.7 : \", sqrt_vec)"
   ]
  },
  {
   "cell_type": "code",
   "execution_count": null,
   "id": "10a2a71f-db89-4bd6-b045-82e7833d4889",
   "metadata": {},
   "outputs": [
    {
     "name": "stdout",
     "output_type": "stream",
     "text": [
      "Задания 3.14.8. Количество элементов <= 200 : 0\n"
     ]
    }
   ],
   "source": [
    "# Задания 3.14.8\n",
    "count_below_200 = count(x -> x <= 200, values_gt_600)\n",
    "println(\"Задания 3.14.8. Количество элементов <= 200 : \", count_below_200)"
   ]
  },
  {
   "cell_type": "code",
   "execution_count": null,
   "id": "0d101262-6cd9-41ff-a882-2ff1c2efeb9d",
   "metadata": {},
   "outputs": [
    {
     "name": "stdout",
     "output_type": "stream",
     "text": [
      "Задания 3.14.9 : Чётные : 124\n",
      " Нечётные : 126\n"
     ]
    }
   ],
   "source": [
    "# Задания 3.14.9\n",
    "even_count = count(iseven, x)\n",
    "odd_count = count(isodd, x)\n",
    "println(\"Задания 3.14.9 : Чётные : \", even_count)\n",
    "println(\" Нечётные : \", odd_count)"
   ]
  },
  {
   "cell_type": "code",
   "execution_count": null,
   "id": "0001c7f6-0a16-4bb3-ade1-f183d9d2c9f2",
   "metadata": {},
   "outputs": [
    {
     "name": "stdout",
     "output_type": "stream",
     "text": [
      "Задания 3.14.10 : Количество элементов, кратных 7: 28\n"
     ]
    }
   ],
   "source": [
    "# 3.14.10\n",
    "divisible_by_7_count = count(x -> x % 7 == 0, x)\n",
    "println(\"Задания 3.14.10 : Количество элементов, кратных 7: \", divisible_by_7_count)"
   ]
  },
  {
   "cell_type": "code",
   "execution_count": null,
   "id": "b876db55-43ac-4c0d-af0b-2a32ee20d4a9",
   "metadata": {},
   "outputs": [
    {
     "name": "stdout",
     "output_type": "stream",
     "text": [
      "Задания 3.14.11: Отсортированный x по возрастанию y : [241, 906, 912, 511, 366, 263, 565, 505, 22, 966, 72, 292, 676, 144, 707, 455, 429, 799, 638, 320, 559, 730, 513, 641, 938, 405, 580, 772, 911, 249, 570, 335, 991, 102, 655, 262, 815, 388, 543, 419, 109, 343, 175, 782, 669, 976, 103, 388, 336, 761, 854, 88, 997, 26, 9, 125, 911, 624, 620, 634, 247, 109, 275, 508, 526, 754, 366, 759, 22, 73, 382, 389, 988, 751, 851, 960, 50, 599, 301, 66, 908, 478, 245, 240, 373, 563, 174, 321, 301, 907, 886, 669, 726, 154, 725, 884, 992, 851, 360, 722, 487, 428, 157, 862, 375, 951, 400, 627, 341, 403, 307, 967, 823, 753, 768, 864, 578, 984, 990, 915, 159, 700, 859, 387, 79, 412, 809, 936, 329, 867, 520, 843, 964, 354, 344, 294, 120, 581, 579, 802, 201, 842, 558, 674, 764, 941, 84, 314, 49, 734, 40, 681, 857, 875, 818, 205, 290, 985, 684, 790, 998, 783, 425, 383, 312, 125, 258, 428, 501, 934, 929, 641, 847, 62, 799, 96, 856, 315, 193, 77, 637, 762, 645, 683, 436, 451, 822, 256, 160, 907, 468, 685, 537, 590, 555, 19, 778, 256, 156, 409, 665, 464, 226, 778, 152, 395, 866, 635, 826, 609, 919, 771, 283, 421, 853, 922, 296, 80, 5, 300, 684, 130, 57, 972, 255, 97, 411, 667, 103, 523, 747, 349, 176, 228, 510, 248, 736, 93, 940, 228, 296, 11, 339, 530, 726, 274, 957, 618, 952, 159]\n"
     ]
    }
   ],
   "source": [
    "# 3.14.11\n",
    "sorted_indices = sortperm(y)\n",
    "sorted_x = x[sorted_indices]\n",
    "println(\"Задания 3.14.11: Отсортированный x по возрастанию y : \", sorted_x)"
   ]
  },
  {
   "cell_type": "code",
   "execution_count": null,
   "id": "0253509a-1bd5-497f-8518-d89153a88894",
   "metadata": {},
   "outputs": [
    {
     "name": "stdout",
     "output_type": "stream",
     "text": [
      "Задания 3.14.12: Элементы вектора x в десятке наибольших : [241, 906, 912, 511, 366, 263, 565, 505, 22, 966]\n"
     ]
    }
   ],
   "source": [
    "# 3.14.12\n",
    "top_10_x = sorted_x[1:10]\n",
    "println(\"Задания 3.14.12: Элементы вектора x в десятке наибольших : \", top_10_x)"
   ]
  },
  {
   "cell_type": "code",
   "execution_count": null,
   "id": "ba85cb4f-a0e0-4df9-b189-4c9d76513b56",
   "metadata": {},
   "outputs": [
    {
     "name": "stdout",
     "output_type": "stream",
     "text": [
      "Задания 3.14.13: Уникальные элементы x : [911, 228, 570, 809, 62, 799, 193, 508, 676, 992, 455, 907, 283, 103, 335, 296, 388, 464, 5, 97, 761, 634, 301, 972, 409, 590, 637, 511, 952, 159, 957, 130, 759, 754, 558, 997, 938, 823, 11, 395, 66, 403, 707, 998, 383, 389, 669, 258, 726, 915, 990, 862, 768, 864, 523, 120, 152, 581, 843, 847, 859, 366, 125, 201, 526, 683, 294, 274, 262, 641, 818, 40, 908, 753, 405, 96, 906, 627, 620, 421, 77, 685, 822, 205, 154, 635, 941, 790, 468, 144, 912, 343, 782, 312, 300, 886, 730, 762, 578, 599, 49, 387, 80, 341, 778, 618, 783, 684, 321, 176, 429, 22, 400, 919, 109, 555, 559, 856, 513, 867, 884, 964, 248, 9, 936, 530, 520, 826, 256, 79, 314, 853, 428, 984, 751, 245, 275, 157, 725, 537, 579, 734, 360, 857, 988, 26, 478, 665, 851, 764, 655, 292, 772, 543, 382, 934, 501, 425, 510, 985, 344, 411, 866, 667, 681, 487, 722, 736, 320, 940, 336, 638, 875, 73, 226, 72, 240, 645, 375, 966, 354, 373, 412, 563, 339, 174, 255, 329, 922, 156, 419, 436, 815, 991, 19, 624, 50, 609, 929, 951, 747, 175, 84, 700, 249, 802, 88, 960, 93, 854, 247, 349, 160, 307, 57, 580, 674, 451, 771, 505, 102, 241, 565, 290, 842, 315, 967, 263, 976]\n"
     ]
    }
   ],
   "source": [
    "# 3.14.13\n",
    "unique_x = unique(x)\n",
    "println(\"Задания 3.14.13: Уникальные элементы x : \", unique_x)"
   ]
  },
  {
   "cell_type": "code",
   "execution_count": null,
   "id": "f9a2231c-a052-43b2-a1b8-a1e746d135af",
   "metadata": {},
   "outputs": [
    {
     "name": "stdout",
     "output_type": "stream",
     "text": [
      "Массив squares: [1, 4, 9, 16, 25, 36, 49, 64, 81, 100, 121, 144, 169, 196, 225, 256, 289, 324, 361, 400, 441, 484, 529, 576, 625, 676, 729, 784, 841, 900, 961, 1024, 1089, 1156, 1225, 1296, 1369, 1444, 1521, 1600, 1681, 1764, 1849, 1936, 2025, 2116, 2209, 2304, 2401, 2500, 2601, 2704, 2809, 2916, 3025, 3136, 3249, 3364, 3481, 3600, 3721, 3844, 3969, 4096, 4225, 4356, 4489, 4624, 4761, 4900, 5041, 5184, 5329, 5476, 5625, 5776, 5929, 6084, 6241, 6400, 6561, 6724, 6889, 7056, 7225, 7396, 7569, 7744, 7921, 8100, 8281, 8464, 8649, 8836, 9025, 9216, 9409, 9604, 9801, 10000]"
     ]
    }
   ],
   "source": [
    "# Задания 4\n",
    "squares = [i^2 for i in 1:100]\n",
    "print(\"Массив squares: \", squares)"
   ]
  },
  {
   "cell_type": "code",
   "execution_count": null,
   "id": "0b17096b-29cd-4843-aaf7-0fb90664b360",
   "metadata": {},
   "outputs": [
    {
     "name": "stdout",
     "output_type": "stream",
     "text": [
      "89-е простое число: 461\n",
      "Срез массива с 89-го до 99-го элемента myprimes: [461, 463, 467, 479, 487, 491, 499, 503, 509, 521, 523]\n"
     ]
    }
   ],
   "source": [
    "# Задания 5\n",
    "using Primes\n",
    "myprimes = primes(1000)[1:168]\n",
    "\n",
    "# Определите 89-е наименьшее простое число.\n",
    "prime_89 = myprimes[89]\n",
    "# Получите срез массива с 89-го до 99-го элемента включительно.\n",
    "slice_89_to_99 = myprimes[89:99]\n",
    "\n",
    "println(\"89-е простое число: \", prime_89)\n",
    "println(\"Срез массива с 89-го до 99-го элемента myprimes: \", slice_89_to_99)"
   ]
  },
  {
   "cell_type": "code",
   "execution_count": null,
   "id": "d401258c-ae48-4d59-a160-84d53b0174e9",
   "metadata": {},
   "outputs": [
    {
     "name": "stdout",
     "output_type": "stream",
     "text": [
      "6.1. Сумма выражения: 26852735"
     ]
    }
   ],
   "source": [
    "# Задания 6\n",
    "# 6.1\n",
    "sum_6_1 = sum(i -> i^3 + 4i^2, 10:100)\n",
    "print(\"6.1. Сумма выражения: \", sum_6_1)"
   ]
  },
  {
   "cell_type": "code",
   "execution_count": null,
   "id": "636008b4-749f-4641-8236-2b9a4e8a1fec",
   "metadata": {},
   "outputs": [
    {
     "name": "stdout",
     "output_type": "stream",
     "text": [
      "6.2. Сумма выражения : 2.1291704368143802e9"
     ]
    }
   ],
   "source": [
    "# 6.2\n",
    "M = 25\n",
    "sum_6_2 = sum(i -> (2^i / i) + (3^i / i^2), 1:M)\n",
    "print(\"6.2. Сумма выражения : \", sum_6_2)"
   ]
  },
  {
   "cell_type": "code",
   "execution_count": null,
   "id": "0c258c31-3171-4cb8-8a63-1378fb82e88e",
   "metadata": {},
   "outputs": [
    {
     "name": "stdout",
     "output_type": "stream",
     "text": [
      "6.3. Сумма выражения : 111.00217926389996\n"
     ]
    }
   ],
   "source": [
    "# 6.3\n",
    "sum_6_3 = sum(prod(2 * i / (2 * i -1) for i in 1:n) for n in 1:20)\n",
    "println(\"6.3. Сумма выражения : \", sum_6_3)"
   ]
  }
 ],
 "metadata": {
  "kernelspec": {
   "display_name": "Julia 1.9.3",
   "language": "julia",
   "name": "julia-1.9"
  },
  "language_info": {
   "file_extension": ".jl",
   "mimetype": "application/julia",
   "name": "julia",
   "version": "1.9.3"
  }
 },
 "nbformat": 4,
 "nbformat_minor": 5
}
