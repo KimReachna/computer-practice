{
 "cells": [
  {
   "cell_type": "markdown",
   "id": "23e97c82-872d-43e4-b611-d0fc5385c9c1",
   "metadata": {},
   "source": [
    "## Лабораторная работа № 4. Линейная алгебра"
   ]
  },
  {
   "cell_type": "code",
   "execution_count": 1,
   "id": "ccd5dbf7-db92-4ad0-8f23-82632e8afa44",
   "metadata": {},
   "outputs": [
    {
     "name": "stdout",
     "output_type": "stream",
     "text": [
      "Поэлементная сумма: 167\n",
      "Поэлементная сумма по столбцам: [58 60 49]\n",
      "Поэлементная сумма по строкам: [38; 42; 41; 46;;]\n",
      "Поэлементное произведение: 28477329408000\n",
      "Поэлементное произведение по столбцам: [36720 45900 16896]\n",
      "Поэлементное произведение по строкам: [1920; 2448; 1800; 3366;;]\n"
     ]
    }
   ],
   "source": [
    "# Массив 4x3 со случайными целыми числами (от 1 до 20):\n",
    "a = rand(1:20,(4,3))\n",
    "\n",
    "# Поэлементная сумма:\n",
    "println(\"Поэлементная сумма: \", sum(a))\n",
    "# Поэлементная сумма по столбцам:\n",
    "println(\"Поэлементная сумма по столбцам: \", sum(a,dims=1))\n",
    "# Поэлементная сумма по строкам:\n",
    "println(\"Поэлементная сумма по строкам: \", sum(a,dims=2))\n",
    "\n",
    "# Поэлементное произведение:\n",
    "println(\"Поэлементное произведение: \", prod(a))\n",
    "# Поэлементное произведение по столбцам:\n",
    "println(\"Поэлементное произведение по столбцам: \", prod(a,dims=1))\n",
    "# Поэлементное произведение по строкам:\n",
    "println(\"Поэлементное произведение по строкам: \", prod(a,dims=2))"
   ]
  },
  {
   "cell_type": "code",
   "execution_count": 2,
   "id": "6c27eab1-20a5-40ce-beb5-633cd1c44d23",
   "metadata": {},
   "outputs": [
    {
     "name": "stderr",
     "output_type": "stream",
     "text": [
      "\u001b[32m\u001b[1m    Updating\u001b[22m\u001b[39m registry at `C:\\Users\\Reachna\\.julia\\registries\\General.toml`\n",
      "\u001b[32m\u001b[1m   Resolving\u001b[22m\u001b[39m package versions...\n",
      "\u001b[32m\u001b[1m    Updating\u001b[22m\u001b[39m `C:\\Users\\Reachna\\.julia\\environments\\v1.9\\Project.toml`\n",
      "  \u001b[90m[10745b16] \u001b[39m\u001b[92m+ Statistics v1.9.0\u001b[39m\n",
      "\u001b[32m\u001b[1m  No Changes\u001b[22m\u001b[39m to `C:\\Users\\Reachna\\.julia\\environments\\v1.9\\Manifest.toml`\n"
     ]
    }
   ],
   "source": [
    "# Подключение пакета Statistics:\n",
    "import Pkg\n",
    "Pkg.add(\"Statistics\")"
   ]
  },
  {
   "cell_type": "code",
   "execution_count": 3,
   "id": "59812d04-01e2-4d05-8092-d7e9d85ac86f",
   "metadata": {},
   "outputs": [
    {
     "name": "stdout",
     "output_type": "stream",
     "text": [
      "Среднего значения массива: 13.916666666666666\n",
      "Среднее по столбцам: [14.5 15.0 12.25]\n",
      "Среднее по строкам: [12.666666666666666; 14.0; 13.666666666666666; 15.333333333333334;;]\n"
     ]
    }
   ],
   "source": [
    "using Statistics\n",
    "# Вычисление среднего значения массива:\n",
    "println(\"Среднего значения массива: \", mean(a))\n",
    "# Среднее по столбцам:\n",
    "println(\"Среднее по столбцам: \", mean(a,dims=1))\n",
    "# Среднее по строкам:\n",
    "println(\"Среднее по строкам: \", mean(a,dims=2))"
   ]
  },
  {
   "cell_type": "markdown",
   "id": "b0dfa88a-e971-4066-a98f-1db5ee11198b",
   "metadata": {},
   "source": [
    " ### Транспонирование, след, ранг, определитель и инверсия матрицы"
   ]
  },
  {
   "cell_type": "code",
   "execution_count": 4,
   "id": "a0fe8be2-03d3-4447-99d4-79fb030c3740",
   "metadata": {},
   "outputs": [
    {
     "name": "stderr",
     "output_type": "stream",
     "text": [
      "\u001b[32m\u001b[1m   Resolving\u001b[22m\u001b[39m package versions...\n",
      "\u001b[32m\u001b[1m    Updating\u001b[22m\u001b[39m `C:\\Users\\Reachna\\.julia\\environments\\v1.9\\Project.toml`\n",
      "  \u001b[90m[37e2e46d] \u001b[39m\u001b[92m+ LinearAlgebra\u001b[39m\n",
      "\u001b[32m\u001b[1m  No Changes\u001b[22m\u001b[39m to `C:\\Users\\Reachna\\.julia\\environments\\v1.9\\Manifest.toml`\n"
     ]
    }
   ],
   "source": [
    "# Подключение пакета LinearAlgebra:\n",
    "import Pkg\n",
    "Pkg.add(\"LinearAlgebra\")"
   ]
  },
  {
   "cell_type": "code",
   "execution_count": 5,
   "id": "2be2fcd7-92c0-4812-8c93-4786543aef3a",
   "metadata": {},
   "outputs": [
    {
     "data": {
      "text/plain": [
       "4×4 Matrix{Int64}:\n",
       " 17   8  1  16\n",
       "  8  15  8  17\n",
       "  2  15  5  20\n",
       "  6  19  4   3"
      ]
     },
     "execution_count": 5,
     "metadata": {},
     "output_type": "execute_result"
    }
   ],
   "source": [
    "using LinearAlgebra\n",
    "# Массив 4x4 со случайными целыми числами (от 1 до 20):\n",
    "b = rand(1:20,(4,4))"
   ]
  },
  {
   "cell_type": "code",
   "execution_count": 6,
   "id": "9caaa8bd-34c0-4c1e-8948-6ff1d4ed453e",
   "metadata": {},
   "outputs": [
    {
     "name": "stdout",
     "output_type": "stream",
     "text": [
      "Транспонирование: [17 8 2 6; 8 15 15 19; 1 8 5 4; 16 17 20 3]\n",
      "След матрицы (сумма диагональных элементов): 40\n",
      "Извлечение диагональных элементов как массив: [17, 15, 5, 3]\n",
      "Ранг матрицы: 4\n"
     ]
    }
   ],
   "source": [
    "# Транспонирование:\n",
    "println(\"Транспонирование: \", transpose(b))\n",
    "# След матрицы (сумма диагональных элементов):\n",
    "println(\"След матрицы (сумма диагональных элементов): \", tr(b))\n",
    "# Извлечение диагональных элементов как массив:\n",
    "println(\"Извлечение диагональных элементов как массив: \", diag(b))\n",
    "# Ранг матрицы:\n",
    "println(\"Ранг матрицы: \", rank(b))"
   ]
  },
  {
   "cell_type": "code",
   "execution_count": 7,
   "id": "aef7b98e-791b-47e0-874a-b9f8cec40ba2",
   "metadata": {},
   "outputs": [
    {
     "name": "stdout",
     "output_type": "stream",
     "text": [
      "Инверсия матрицы: \n"
     ]
    },
    {
     "data": {
      "text/plain": [
       "4×4 Matrix{Float64}:\n",
       "  0.0488384     0.032779   -0.0680218   0.00725977\n",
       " -0.000791975  -0.0590901   0.0407427   0.0674498\n",
       " -0.0815734     0.247052   -0.136836   -0.0526663\n",
       "  0.0161035    -0.0207233   0.0604541  -0.0381468"
      ]
     },
     "execution_count": 7,
     "metadata": {},
     "output_type": "execute_result"
    }
   ],
   "source": [
    "# Инверсия матрицы (определение обратной матрицы):\n",
    "println(\"Инверсия матрицы: \")\n",
    "inv(b)"
   ]
  },
  {
   "cell_type": "code",
   "execution_count": 8,
   "id": "249a3d3d-ab0e-4ba8-a342-fdf4d25c49d2",
   "metadata": {},
   "outputs": [
    {
     "name": "stdout",
     "output_type": "stream",
     "text": [
      "Определитель матрицы: 22728.000000000004\n"
     ]
    }
   ],
   "source": [
    "# Определитель матрицы:\n",
    "println(\"Определитель матрицы: \", det(b))"
   ]
  },
  {
   "cell_type": "code",
   "execution_count": 9,
   "id": "436d97f2-e074-444a-83d1-8e659dc554bf",
   "metadata": {},
   "outputs": [
    {
     "name": "stdout",
     "output_type": "stream",
     "text": [
      "Псевдобратная функция для прямоугольных матриц: \n"
     ]
    },
    {
     "data": {
      "text/plain": [
       "3×4 Matrix{Float64}:\n",
       "  0.0599931  -0.0750363    0.0543877  -0.00778499\n",
       " -0.113035    0.08467     -0.0099743   0.0466985\n",
       "  0.0879067   0.00491167  -0.0325707  -0.0263336"
      ]
     },
     "execution_count": 9,
     "metadata": {},
     "output_type": "execute_result"
    }
   ],
   "source": [
    "# Псевдобратная функция для прямоугольных матриц:\n",
    "println(\"Псевдобратная функция для прямоугольных матриц: \")\n",
    "pinv(a)"
   ]
  },
  {
   "cell_type": "markdown",
   "id": "f9a37f5b-5719-4570-ac68-9fa9a24c0ba0",
   "metadata": {},
   "source": [
    "### Вычисление нормы векторов и матриц, повороты, вращения"
   ]
  },
  {
   "cell_type": "code",
   "execution_count": 10,
   "id": "83a725fe-a7b1-4279-a518-59887942dab9",
   "metadata": {},
   "outputs": [
    {
     "name": "stdout",
     "output_type": "stream",
     "text": [
      "Евклидовой нормы: 6.708203932499369\n",
      "p-нормы: 11.0\n"
     ]
    }
   ],
   "source": [
    "# Создание вектора X:\n",
    "X = [2, 4, -5]\n",
    "# Вычисление евклидовой нормы:\n",
    "println(\"Евклидовой нормы: \", norm(X))\n",
    "# Вычисление p-нормы:\n",
    "p = 1\n",
    "println(\"p-нормы: \", norm(X,p))"
   ]
  },
  {
   "cell_type": "code",
   "execution_count": 11,
   "id": "79dbc75e-4a41-4065-b3c2-d3d7e5f07a4e",
   "metadata": {},
   "outputs": [
    {
     "name": "stdout",
     "output_type": "stream",
     "text": [
      "Расстояние между двумя векторами X и Y: 9.486832980505138\n",
      "Расстояние по базовому определению: 9.486832980505138\n"
     ]
    }
   ],
   "source": [
    "# Расстояние между двумя векторами X и Y:\n",
    "X = [2, 4, -5];\n",
    "Y = [1,-1,3];\n",
    "println(\"Расстояние между двумя векторами X и Y: \", norm(X-Y))\n",
    "# Проверка по базовому определению:\n",
    "println(\"Расстояние по базовому определению: \", sqrt(sum((X-Y).^2)))"
   ]
  },
  {
   "cell_type": "code",
   "execution_count": 12,
   "id": "5c06d81a-08bc-4ef4-957c-0f55aa20fad1",
   "metadata": {},
   "outputs": [
    {
     "name": "stdout",
     "output_type": "stream",
     "text": [
      "Угол между двумя векторами: 2.4404307889469252\n"
     ]
    }
   ],
   "source": [
    "# Угол между двумя векторами:\n",
    "println(\"Угол между двумя векторами: \", acos((transpose(X)*Y)/(norm(X)*norm(Y))))"
   ]
  },
  {
   "cell_type": "code",
   "execution_count": 13,
   "id": "b6d89ccc-c6b0-4af2-b232-8a8989c540e4",
   "metadata": {},
   "outputs": [
    {
     "data": {
      "text/plain": [
       "3×3 Matrix{Int64}:\n",
       "  5  -4  2\n",
       " -1   2  3\n",
       " -2   1  0"
      ]
     },
     "execution_count": 13,
     "metadata": {},
     "output_type": "execute_result"
    }
   ],
   "source": [
    "# Создание матрицы:\n",
    "d = [5 -4 2 ; -1 2 3; -2 1 0]"
   ]
  },
  {
   "cell_type": "code",
   "execution_count": 14,
   "id": "27a40c41-3171-49c9-92cd-4c521fd849c2",
   "metadata": {},
   "outputs": [
    {
     "name": "stdout",
     "output_type": "stream",
     "text": [
      "Евклидовой нормы: 7.147682841795258\n",
      "p-нормы: 8.0\n"
     ]
    }
   ],
   "source": [
    "# Вычисление Евклидовой нормы:\n",
    "println(\"Евклидовой нормы: \", opnorm(d))\n",
    "# Вычисление p-нормы:\n",
    "p=1\n",
    "println(\"p-нормы: \", opnorm(d,p))"
   ]
  },
  {
   "cell_type": "code",
   "execution_count": 15,
   "id": "2be4fe54-6954-43aa-af67-774e35e8f5b3",
   "metadata": {},
   "outputs": [
    {
     "name": "stdout",
     "output_type": "stream",
     "text": [
      "Поворот на 180 градусов[0 1 -2; 3 2 -1; 2 -4 5]\n",
      "Переворачивание строк: [-2 1 0; -1 2 3; 5 -4 2]\n",
      "Переворачивание столбцов: [2 -4 5; 3 2 -1; 0 1 -2]\n"
     ]
    }
   ],
   "source": [
    "# Поворот на 180 градусов:\n",
    "println(\"Поворот на 180 градусов\", rot180(d))\n",
    "# Переворачивание строк:\n",
    "println(\"Переворачивание строк: \", reverse(d,dims=1))\n",
    "# Переворачивание столбцов\n",
    "println(\"Переворачивание столбцов: \", reverse(d,dims=2))"
   ]
  },
  {
   "cell_type": "markdown",
   "id": "bd68b91b-5be2-4497-a087-d27d0ff06ad9",
   "metadata": {},
   "source": [
    "### Матричное умножение, единичная матрица, скалярное произведение"
   ]
  },
  {
   "cell_type": "code",
   "execution_count": 17,
   "id": "73911e01-1ca3-4f77-adf2-55c81cb7c964",
   "metadata": {},
   "outputs": [
    {
     "data": {
      "text/plain": [
       "2×4 Matrix{Int64}:\n",
       " 73  37  18   66\n",
       " 87  60  31  117"
      ]
     },
     "execution_count": 17,
     "metadata": {},
     "output_type": "execute_result"
    }
   ],
   "source": [
    "# Матрица 2x3 со случайными целыми значениями от 1 до 10:\n",
    "A = rand(1:10,(2,3))\n",
    "# Матрица 3x4 со случайными целыми значениями от 1 до 10:\n",
    "B = rand(1:10,(3,4))\n",
    "# Произведение матриц A и B:\n",
    "A*B"
   ]
  },
  {
   "cell_type": "code",
   "execution_count": 18,
   "id": "8a891d7f-39c9-4d53-ac95-fa73578d50ff",
   "metadata": {},
   "outputs": [
    {
     "data": {
      "text/plain": [
       "3×3 Matrix{Int64}:\n",
       " 1  0  0\n",
       " 0  1  0\n",
       " 0  0  1"
      ]
     },
     "execution_count": 18,
     "metadata": {},
     "output_type": "execute_result"
    }
   ],
   "source": [
    "# Единичная матрица 3x3:\n",
    "Matrix{Int}(I, 3, 3)"
   ]
  },
  {
   "cell_type": "code",
   "execution_count": 19,
   "id": "446c3a0c-f0f6-4b36-93bf-43696624fb06",
   "metadata": {},
   "outputs": [
    {
     "data": {
      "text/plain": [
       "-17"
      ]
     },
     "execution_count": 19,
     "metadata": {},
     "output_type": "execute_result"
    }
   ],
   "source": [
    "# Скалярное произведение векторов X и Y:\n",
    "X = [2, 4, -5]\n",
    "Y = [1,-1,3]\n",
    "dot(X,Y)"
   ]
  },
  {
   "cell_type": "code",
   "execution_count": 20,
   "id": "72c1a4e2-1615-44fe-9714-fa9a5f4afca2",
   "metadata": {},
   "outputs": [
    {
     "data": {
      "text/plain": [
       "-17"
      ]
     },
     "execution_count": 20,
     "metadata": {},
     "output_type": "execute_result"
    }
   ],
   "source": [
    "# тоже скалярное произведение:\n",
    "X'Y"
   ]
  },
  {
   "cell_type": "markdown",
   "id": "9964cb61-cd3d-4517-bae7-aaff383a2392",
   "metadata": {},
   "source": [
    "### Факторизация. Специальные матричные структуры"
   ]
  },
  {
   "cell_type": "code",
   "execution_count": 21,
   "id": "ee386aac-53f7-4679-b570-6ada3d8d23a8",
   "metadata": {},
   "outputs": [
    {
     "data": {
      "text/plain": [
       "3-element Vector{Float64}:\n",
       " 0.9999999999999998\n",
       " 1.0\n",
       " 1.0"
      ]
     },
     "execution_count": 21,
     "metadata": {},
     "output_type": "execute_result"
    }
   ],
   "source": [
    "# Задаём квадратную матрицу 3x3 со случайными значениями:\n",
    "A = rand(3, 3)\n",
    "# Задаём единичный вектор:\n",
    "x = fill(1.0, 3)\n",
    "# Задаём вектор b:\n",
    "b = A*x\n",
    "# Решение исходного уравнения получаем с помощью функции \\\n",
    "# (убеждаемся, что x - единичный вектор):\n",
    "A\\b"
   ]
  },
  {
   "cell_type": "code",
   "execution_count": 22,
   "id": "3f9af3a7-0334-44fe-958c-f260bfb6f68d",
   "metadata": {},
   "outputs": [
    {
     "data": {
      "text/plain": [
       "LU{Float64, Matrix{Float64}, Vector{Int64}}\n",
       "L factor:\n",
       "3×3 Matrix{Float64}:\n",
       " 1.0       0.0        0.0\n",
       " 0.615141  1.0        0.0\n",
       " 0.321768  0.0235118  1.0\n",
       "U factor:\n",
       "3×3 Matrix{Float64}:\n",
       " 0.909254  0.606996  0.188041\n",
       " 0.0       0.57954   0.63612\n",
       " 0.0       0.0       0.861268"
      ]
     },
     "execution_count": 22,
     "metadata": {},
     "output_type": "execute_result"
    }
   ],
   "source": [
    "# LU-факторизация:\n",
    "Alu = lu(A)"
   ]
  },
  {
   "cell_type": "code",
   "execution_count": 23,
   "id": "0f4f9dd2-f29b-4d2d-8d7b-5775543e0ec1",
   "metadata": {},
   "outputs": [
    {
     "data": {
      "text/plain": [
       "3×3 Matrix{Float64}:\n",
       " 0.0  1.0  0.0\n",
       " 0.0  0.0  1.0\n",
       " 1.0  0.0  0.0"
      ]
     },
     "execution_count": 23,
     "metadata": {},
     "output_type": "execute_result"
    }
   ],
   "source": [
    "# Матрица перестановок:\n",
    "Alu.P"
   ]
  },
  {
   "cell_type": "code",
   "execution_count": 24,
   "id": "a8bf0549-0624-4b25-9fac-bd5a566639d8",
   "metadata": {},
   "outputs": [
    {
     "data": {
      "text/plain": [
       "3-element Vector{Int64}:\n",
       " 2\n",
       " 3\n",
       " 1"
      ]
     },
     "execution_count": 24,
     "metadata": {},
     "output_type": "execute_result"
    }
   ],
   "source": [
    "# Вектор перестановок:\n",
    "Alu.p"
   ]
  },
  {
   "cell_type": "code",
   "execution_count": 25,
   "id": "fdf3655c-6b3f-46e2-aa43-2443e8ae6056",
   "metadata": {},
   "outputs": [
    {
     "data": {
      "text/plain": [
       "3×3 Matrix{Float64}:\n",
       " 1.0       0.0        0.0\n",
       " 0.615141  1.0        0.0\n",
       " 0.321768  0.0235118  1.0"
      ]
     },
     "execution_count": 25,
     "metadata": {},
     "output_type": "execute_result"
    }
   ],
   "source": [
    "# Матрица L:\n",
    "Alu.L"
   ]
  },
  {
   "cell_type": "code",
   "execution_count": 26,
   "id": "c4ddaf03-a106-4ac6-bde3-c4c59cb6f704",
   "metadata": {},
   "outputs": [
    {
     "data": {
      "text/plain": [
       "3×3 Matrix{Float64}:\n",
       " 0.909254  0.606996  0.188041\n",
       " 0.0       0.57954   0.63612\n",
       " 0.0       0.0       0.861268"
      ]
     },
     "execution_count": 26,
     "metadata": {},
     "output_type": "execute_result"
    }
   ],
   "source": [
    "# Матрица U:\n",
    "Alu.U"
   ]
  },
  {
   "cell_type": "code",
   "execution_count": 27,
   "id": "f76d4f3a-b42c-42e6-88cc-37f28ff2b570",
   "metadata": {},
   "outputs": [
    {
     "data": {
      "text/plain": [
       "3-element Vector{Float64}:\n",
       " 0.9999999999999998\n",
       " 1.0\n",
       " 1.0"
      ]
     },
     "execution_count": 27,
     "metadata": {},
     "output_type": "execute_result"
    }
   ],
   "source": [
    "# Решение СЛАУ через матрицу A:\n",
    "A\\b"
   ]
  },
  {
   "cell_type": "code",
   "execution_count": 28,
   "id": "2bc22c77-d0cb-420f-a6dc-18da5418270a",
   "metadata": {},
   "outputs": [
    {
     "data": {
      "text/plain": [
       "3-element Vector{Float64}:\n",
       " 0.9999999999999998\n",
       " 1.0\n",
       " 1.0"
      ]
     },
     "execution_count": 28,
     "metadata": {},
     "output_type": "execute_result"
    }
   ],
   "source": [
    "# Решение СЛАУ через объект факторизации:\n",
    "Alu\\b"
   ]
  },
  {
   "cell_type": "code",
   "execution_count": 29,
   "id": "4f20e192-a23f-432c-88fb-99342cecd452",
   "metadata": {},
   "outputs": [
    {
     "data": {
      "text/plain": [
       "0.45384413687575187"
      ]
     },
     "execution_count": 29,
     "metadata": {},
     "output_type": "execute_result"
    }
   ],
   "source": [
    "# Детерминант матрицы A:\n",
    "det(A)"
   ]
  },
  {
   "cell_type": "code",
   "execution_count": 30,
   "id": "94311d96-399b-42e8-ac4a-5e3b1a24f87e",
   "metadata": {},
   "outputs": [
    {
     "data": {
      "text/plain": [
       "0.45384413687575187"
      ]
     },
     "execution_count": 30,
     "metadata": {},
     "output_type": "execute_result"
    }
   ],
   "source": [
    "# Детерминант матрицы A через объект факторизации:\n",
    "det(Alu)"
   ]
  },
  {
   "cell_type": "code",
   "execution_count": 31,
   "id": "5cb86fc8-0067-4478-b99c-e016352265e2",
   "metadata": {},
   "outputs": [
    {
     "data": {
      "text/plain": [
       "LinearAlgebra.QRCompactWY{Float64, Matrix{Float64}, Matrix{Float64}}\n",
       "Q factor:\n",
       "3×3 LinearAlgebra.QRCompactWYQ{Float64, Matrix{Float64}, Matrix{Float64}}:\n",
       " -0.264319  -0.12994   -0.955642\n",
       " -0.821459  -0.488837   0.293673\n",
       " -0.505313   0.862644   0.0224688\n",
       "R factor:\n",
       "3×3 Matrix{Float64}:\n",
       " -1.10688  -1.03538   -0.781953\n",
       "  0.0       0.498166   0.434889\n",
       "  0.0       0.0       -0.823064"
      ]
     },
     "execution_count": 31,
     "metadata": {},
     "output_type": "execute_result"
    }
   ],
   "source": [
    "# QR-факторизация:\n",
    "Aqr = qr(A)"
   ]
  },
  {
   "cell_type": "code",
   "execution_count": 32,
   "id": "00a9fff7-d25e-4bca-a904-7c7defcc5dca",
   "metadata": {},
   "outputs": [
    {
     "data": {
      "text/plain": [
       "3×3 LinearAlgebra.QRCompactWYQ{Float64, Matrix{Float64}, Matrix{Float64}}:\n",
       " -0.264319  -0.12994   -0.955642\n",
       " -0.821459  -0.488837   0.293673\n",
       " -0.505313   0.862644   0.0224688"
      ]
     },
     "execution_count": 32,
     "metadata": {},
     "output_type": "execute_result"
    }
   ],
   "source": [
    "# Матрица Q:\n",
    "Aqr.Q"
   ]
  },
  {
   "cell_type": "code",
   "execution_count": 33,
   "id": "3e2eb13a-ce39-44dd-909b-644e4b3db003",
   "metadata": {},
   "outputs": [
    {
     "data": {
      "text/plain": [
       "3×3 Matrix{Float64}:\n",
       " -1.10688  -1.03538   -0.781953\n",
       "  0.0       0.498166   0.434889\n",
       "  0.0       0.0       -0.823064"
      ]
     },
     "execution_count": 33,
     "metadata": {},
     "output_type": "execute_result"
    }
   ],
   "source": [
    "# Матрица R:\n",
    "Aqr.R"
   ]
  },
  {
   "cell_type": "code",
   "execution_count": 34,
   "id": "afed2d7f-f691-4ab2-8e80-b0b03ed81baa",
   "metadata": {},
   "outputs": [
    {
     "data": {
      "text/plain": [
       "3×3 Matrix{Float64}:\n",
       " 1.0  -1.66533e-16   0.0\n",
       " 0.0   1.0          -4.44089e-16\n",
       " 0.0  -3.33067e-16   1.0"
      ]
     },
     "execution_count": 34,
     "metadata": {},
     "output_type": "execute_result"
    }
   ],
   "source": [
    "# Проверка, что матрица Q - ортогональная:\n",
    "Aqr.Q'*Aqr.Q"
   ]
  },
  {
   "cell_type": "code",
   "execution_count": 35,
   "id": "c187a8b7-4b92-40b3-b705-7910d275e470",
   "metadata": {},
   "outputs": [
    {
     "data": {
      "text/plain": [
       "3×3 Matrix{Float64}:\n",
       " 0.585137  1.11819  1.49605\n",
       " 1.11819   1.21399  1.14097\n",
       " 1.49605   1.14097  1.50358"
      ]
     },
     "execution_count": 35,
     "metadata": {},
     "output_type": "execute_result"
    }
   ],
   "source": [
    "# Симметризация матрицы A:\n",
    "Asym = A + A'"
   ]
  },
  {
   "cell_type": "code",
   "execution_count": 36,
   "id": "17b090e9-7fb5-46ad-9d09-d9a38e29a87b",
   "metadata": {},
   "outputs": [
    {
     "data": {
      "text/plain": [
       "Eigen{Float64, Float64, Matrix{Float64}, Vector{Float64}}\n",
       "values:\n",
       "3-element Vector{Float64}:\n",
       " -0.5696462945958927\n",
       "  0.2280379804830429\n",
       "  3.6443212274452446\n",
       "vectors:\n",
       "3×3 Matrix{Float64}:\n",
       "  0.844286   0.127328  -0.520546\n",
       " -0.215406  -0.808803  -0.54721\n",
       " -0.490694   0.574131  -0.655434"
      ]
     },
     "execution_count": 36,
     "metadata": {},
     "output_type": "execute_result"
    }
   ],
   "source": [
    "# Спектральное разложение симметризованной матрицы:\n",
    "AsymEig = eigen(Asym)"
   ]
  },
  {
   "cell_type": "code",
   "execution_count": 37,
   "id": "400ac4c4-d384-4f06-a0b5-9d6715566889",
   "metadata": {},
   "outputs": [
    {
     "data": {
      "text/plain": [
       "3-element Vector{Float64}:\n",
       " -0.5696462945958927\n",
       "  0.2280379804830429\n",
       "  3.6443212274452446"
      ]
     },
     "execution_count": 37,
     "metadata": {},
     "output_type": "execute_result"
    }
   ],
   "source": [
    "# Собственные значения:\n",
    "AsymEig.values"
   ]
  },
  {
   "cell_type": "code",
   "execution_count": 38,
   "id": "c52b8eb1-ac8f-46cb-b8ae-99cdb2389603",
   "metadata": {},
   "outputs": [
    {
     "data": {
      "text/plain": [
       "3×3 Matrix{Float64}:\n",
       "  0.844286   0.127328  -0.520546\n",
       " -0.215406  -0.808803  -0.54721\n",
       " -0.490694   0.574131  -0.655434"
      ]
     },
     "execution_count": 38,
     "metadata": {},
     "output_type": "execute_result"
    }
   ],
   "source": [
    "#Собственные векторы:\n",
    "AsymEig.vectors"
   ]
  },
  {
   "cell_type": "code",
   "execution_count": 39,
   "id": "595d4542-5ba2-4f79-a23a-1c185e289400",
   "metadata": {},
   "outputs": [
    {
     "data": {
      "text/plain": [
       "3×3 Matrix{Float64}:\n",
       "  1.0          6.66134e-16   1.11022e-15\n",
       " -1.33227e-15  1.0          -2.22045e-15\n",
       "  2.66454e-15  6.66134e-16   1.0"
      ]
     },
     "execution_count": 39,
     "metadata": {},
     "output_type": "execute_result"
    }
   ],
   "source": [
    "# Проверяем, что получится единичная матрица:\n",
    "inv(AsymEig)*Asym"
   ]
  },
  {
   "cell_type": "code",
   "execution_count": 40,
   "id": "4d6ed543-329a-42e9-91bb-d70aada46468",
   "metadata": {},
   "outputs": [
    {
     "data": {
      "text/plain": [
       "1000×1000 Matrix{Float64}:\n",
       "  0.563565      1.04686   -0.17552    …   0.732417   -0.352508    0.572473\n",
       "  1.24608      -0.813521  -1.12819       -0.205106    0.486897    0.428047\n",
       "  1.09677      -0.131553   0.0147621     -0.73089    -1.36957    -1.73431\n",
       "  0.00612529   -0.061649   0.73033        1.33844     0.83394     1.00052\n",
       "  0.327113     -0.490315   0.966332       0.681366   -0.57985     1.47336\n",
       " -0.447071      1.06384   -1.3739     …   1.06415     0.226066   -1.77447\n",
       "  0.843396     -0.116513  -0.603763       0.642849    1.08515     0.313099\n",
       " -0.000157182   0.311643   0.522261       1.57937     1.20215     0.478557\n",
       " -0.150693      0.21262   -0.257269      -0.531689    1.04099    -1.76959\n",
       "  0.568932     -0.656127  -0.618355       0.230223   -0.318063    0.666008\n",
       "  0.589237      1.30122    0.988794   …  -0.747055    0.401636    0.805042\n",
       " -1.38645       0.170924  -0.911031      -0.122241   -2.61964    -0.655887\n",
       " -0.352182     -0.1377     0.731137      -0.481005    0.822418    0.611771\n",
       "  ⋮                                   ⋱                          \n",
       "  0.389215     -0.020974  -0.542638      -0.139909   -1.42999    -1.34067\n",
       " -1.13188       0.352305  -0.347941       1.06377    -0.277257   -0.532906\n",
       " -0.0315728    -0.250863  -0.229701   …  -0.0856085   0.098191    0.238011\n",
       " -1.3502        1.00534   -0.335383       0.94875     0.277358   -0.0610749\n",
       "  0.0134547     0.881627   0.155217       1.82891    -0.0572179  -1.84264\n",
       " -0.678266     -0.994697  -0.223364       0.194877    0.0110706  -0.104862\n",
       " -0.721806      1.58744   -2.11496       -0.154554   -0.103842    0.117867\n",
       "  0.838983     -0.310588   0.47783    …   1.52233     1.30001    -0.0295978\n",
       " -1.4324        1.18773   -0.099182       0.556455    0.833313   -0.926812\n",
       "  0.142712     -1.35304    0.157123       0.269901   -1.89899     0.309658\n",
       "  0.144455     -0.299778  -0.328117       0.478755    1.24456     0.120033\n",
       "  0.454165     -0.09356    0.772868       0.296564   -0.445574   -0.409302"
      ]
     },
     "execution_count": 40,
     "metadata": {},
     "output_type": "execute_result"
    }
   ],
   "source": [
    "# Матрица 1000 х 1000:\n",
    "n = 1000\n",
    "A = randn(n,n)"
   ]
  },
  {
   "cell_type": "code",
   "execution_count": 41,
   "id": "7aa809d5-1fed-4cf1-8f59-5fc3bfb2623b",
   "metadata": {},
   "outputs": [
    {
     "data": {
      "text/plain": [
       "1000×1000 Matrix{Float64}:\n",
       "  1.12713     2.29294     0.92125     …   0.875129   -0.208053   1.02664\n",
       "  2.29294    -1.62704    -1.25974        -1.55815     0.187119   0.334487\n",
       "  0.92125    -1.25974     0.0295241      -0.573767   -1.69769   -0.961445\n",
       " -0.592356   -2.18621     1.105           1.15669     1.51627    0.611408\n",
       " -0.811693   -1.28434     0.554618        1.86542    -0.293424   2.83478\n",
       " -0.272431   -1.24724    -1.83987     …   0.413559   -1.19622   -2.10303\n",
       "  1.38647    -0.473752   -2.18502         0.474592    1.17278    0.413386\n",
       "  1.19554     0.494837    1.55956         2.86799     2.10379    1.09358\n",
       "  0.326293   -0.536223    0.954788       -1.27036     1.89652   -0.920687\n",
       " -0.771797   -1.21269     0.858733        0.227956    0.306372   1.25796\n",
       " -0.244776    0.537374    2.49184     …  -0.969896    1.73563    1.08437\n",
       " -1.2631      2.12378    -2.0678          0.565227   -2.83178   -1.7204\n",
       " -0.26491    -0.0472591   1.18405         0.0641268  -0.8119     1.21369\n",
       "  ⋮                                   ⋱                         \n",
       " -1.10117     0.489811   -0.702793        0.425125   -1.596     -1.86898\n",
       " -0.360239    1.5409      1.09111         1.49925     1.48906    2.00088\n",
       "  0.835484   -0.0468494   0.00423505  …   0.427497   -0.42276    0.977794\n",
       " -2.43407     0.669173   -0.593056        0.912447    1.12643    1.24709\n",
       "  0.313434    0.512936    1.44202         2.11698     1.86649   -3.70162\n",
       "  0.0915174  -1.45202     0.0508664       0.521804   -0.923898   0.563592\n",
       " -2.01179     2.12807    -2.36717        -1.25802    -1.42504    0.262337\n",
       "  0.317828    1.96872     2.35824     …   2.11963     2.15978   -2.04816\n",
       " -0.722444    2.03463    -1.32701         1.12356     0.620509  -0.660104\n",
       "  0.875129   -1.55815    -0.573767        0.539803   -1.42023    0.606222\n",
       " -0.208053    0.187119   -1.69769        -1.42023     2.48911   -0.325541\n",
       "  1.02664     0.334487   -0.961445        0.606222   -0.325541  -0.818604"
      ]
     },
     "execution_count": 41,
     "metadata": {},
     "output_type": "execute_result"
    }
   ],
   "source": [
    "# Симметризация матрицы:\n",
    "Asym = A + A'"
   ]
  },
  {
   "cell_type": "code",
   "execution_count": 42,
   "id": "fe74c342-5e64-4265-835e-7f48ecc2d8d4",
   "metadata": {},
   "outputs": [
    {
     "data": {
      "text/plain": [
       "true"
      ]
     },
     "execution_count": 42,
     "metadata": {},
     "output_type": "execute_result"
    }
   ],
   "source": [
    "# Проверка, является ли матрица симметричной:\n",
    "issymmetric(Asym)"
   ]
  },
  {
   "cell_type": "code",
   "execution_count": 43,
   "id": "7e0f19cb-7660-407a-9ebf-d39ea22fa2e8",
   "metadata": {},
   "outputs": [
    {
     "data": {
      "text/plain": [
       "false"
      ]
     },
     "execution_count": 43,
     "metadata": {},
     "output_type": "execute_result"
    }
   ],
   "source": [
    "# Добавление шума:\n",
    "Asym_noisy = copy(Asym)\n",
    "Asym_noisy[1,2] += 5eps()\n",
    "# Проверка, является ли матрица симметричной:\n",
    "issymmetric(Asym_noisy)"
   ]
  },
  {
   "cell_type": "code",
   "execution_count": 44,
   "id": "73324019-edb1-4524-93d6-2b585d8f9f5a",
   "metadata": {},
   "outputs": [
    {
     "data": {
      "text/plain": [
       "1000×1000 Symmetric{Float64, Matrix{Float64}}:\n",
       "  1.12713     2.29294     0.92125     …   0.875129   -0.208053   1.02664\n",
       "  2.29294    -1.62704    -1.25974        -1.55815     0.187119   0.334487\n",
       "  0.92125    -1.25974     0.0295241      -0.573767   -1.69769   -0.961445\n",
       " -0.592356   -2.18621     1.105           1.15669     1.51627    0.611408\n",
       " -0.811693   -1.28434     0.554618        1.86542    -0.293424   2.83478\n",
       " -0.272431   -1.24724    -1.83987     …   0.413559   -1.19622   -2.10303\n",
       "  1.38647    -0.473752   -2.18502         0.474592    1.17278    0.413386\n",
       "  1.19554     0.494837    1.55956         2.86799     2.10379    1.09358\n",
       "  0.326293   -0.536223    0.954788       -1.27036     1.89652   -0.920687\n",
       " -0.771797   -1.21269     0.858733        0.227956    0.306372   1.25796\n",
       " -0.244776    0.537374    2.49184     …  -0.969896    1.73563    1.08437\n",
       " -1.2631      2.12378    -2.0678          0.565227   -2.83178   -1.7204\n",
       " -0.26491    -0.0472591   1.18405         0.0641268  -0.8119     1.21369\n",
       "  ⋮                                   ⋱                         \n",
       " -1.10117     0.489811   -0.702793        0.425125   -1.596     -1.86898\n",
       " -0.360239    1.5409      1.09111         1.49925     1.48906    2.00088\n",
       "  0.835484   -0.0468494   0.00423505  …   0.427497   -0.42276    0.977794\n",
       " -2.43407     0.669173   -0.593056        0.912447    1.12643    1.24709\n",
       "  0.313434    0.512936    1.44202         2.11698     1.86649   -3.70162\n",
       "  0.0915174  -1.45202     0.0508664       0.521804   -0.923898   0.563592\n",
       " -2.01179     2.12807    -2.36717        -1.25802    -1.42504    0.262337\n",
       "  0.317828    1.96872     2.35824     …   2.11963     2.15978   -2.04816\n",
       " -0.722444    2.03463    -1.32701         1.12356     0.620509  -0.660104\n",
       "  0.875129   -1.55815    -0.573767        0.539803   -1.42023    0.606222\n",
       " -0.208053    0.187119   -1.69769        -1.42023     2.48911   -0.325541\n",
       "  1.02664     0.334487   -0.961445        0.606222   -0.325541  -0.818604"
      ]
     },
     "execution_count": 44,
     "metadata": {},
     "output_type": "execute_result"
    }
   ],
   "source": [
    "# Явно указываем, что матрица является симметричной:\n",
    "Asym_explicit = Symmetric(Asym_noisy)"
   ]
  },
  {
   "cell_type": "code",
   "execution_count": 45,
   "id": "c54235d0-af08-4bd6-b7fd-22e314b89e85",
   "metadata": {},
   "outputs": [
    {
     "name": "stderr",
     "output_type": "stream",
     "text": [
      "\u001b[32m\u001b[1m   Resolving\u001b[22m\u001b[39m package versions...\n",
      "\u001b[32m\u001b[1m    Updating\u001b[22m\u001b[39m `C:\\Users\\Reachna\\.julia\\environments\\v1.9\\Project.toml`\n",
      "  \u001b[90m[6e4b80f9] \u001b[39m\u001b[92m+ BenchmarkTools v1.3.2\u001b[39m\n",
      "\u001b[32m\u001b[1m    Updating\u001b[22m\u001b[39m `C:\\Users\\Reachna\\.julia\\environments\\v1.9\\Manifest.toml`\n",
      "  \u001b[90m[6e4b80f9] \u001b[39m\u001b[92m+ BenchmarkTools v1.3.2\u001b[39m\n",
      "  \u001b[90m[9abbd945] \u001b[39m\u001b[92m+ Profile\u001b[39m\n",
      "\u001b[32m\u001b[1mPrecompiling\u001b[22m\u001b[39m project...\n",
      "\u001b[32m  ✓ \u001b[39mBenchmarkTools\n",
      "  1 dependency successfully precompiled in 2 seconds. 26 already precompiled.\n"
     ]
    }
   ],
   "source": [
    "import Pkg\n",
    "Pkg.add(\"BenchmarkTools\")"
   ]
  },
  {
   "cell_type": "code",
   "execution_count": 46,
   "id": "cb3c9fde-5f40-4b66-8afc-5d3e21194131",
   "metadata": {},
   "outputs": [
    {
     "name": "stdout",
     "output_type": "stream",
     "text": [
      "  170.188 ms (11 allocations: 7.99 MiB)\n"
     ]
    }
   ],
   "source": [
    "using BenchmarkTools\n",
    "# Оценка эффективности выполнения операции по нахождению\n",
    "# собственных значений симметризованной матрицы:\n",
    "@btime eigvals(Asym);"
   ]
  },
  {
   "cell_type": "code",
   "execution_count": 47,
   "id": "81c1ec33-4f3b-4367-bb2e-f90b5d404d6a",
   "metadata": {},
   "outputs": [
    {
     "name": "stdout",
     "output_type": "stream",
     "text": [
      "  732.106 ms (14 allocations: 7.93 MiB)\n"
     ]
    }
   ],
   "source": [
    "# Оценка эффективности выполнения операции по нахождению\n",
    "# собственных значений зашумлённой матрицы:\n",
    "@btime eigvals(Asym_noisy);"
   ]
  },
  {
   "cell_type": "code",
   "execution_count": 48,
   "id": "edfe3fc4-dfee-4d76-b75a-ee47c258ff50",
   "metadata": {},
   "outputs": [
    {
     "name": "stdout",
     "output_type": "stream",
     "text": [
      "  174.454 ms (11 allocations: 7.99 MiB)\n"
     ]
    }
   ],
   "source": [
    "# Оценка эффективности выполнения операции по нахождению\n",
    "# собственных значений зашумлённой матрицы,\n",
    "# для которой явно указано, что она симметричная:\n",
    "@btime eigvals(Asym_explicit);"
   ]
  },
  {
   "cell_type": "code",
   "execution_count": 49,
   "id": "f3bc8c6e-2c3d-4564-81a9-bed80f91f055",
   "metadata": {},
   "outputs": [
    {
     "data": {
      "text/plain": [
       "1000000×1000000 SymTridiagonal{Float64, Vector{Float64}}:\n",
       "  2.0704    -0.429507    ⋅        …    ⋅          ⋅          ⋅ \n",
       " -0.429507   1.03656   -0.552678       ⋅          ⋅          ⋅ \n",
       "   ⋅        -0.552678  -0.84854        ⋅          ⋅          ⋅ \n",
       "   ⋅          ⋅        -1.84039        ⋅          ⋅          ⋅ \n",
       "   ⋅          ⋅          ⋅             ⋅          ⋅          ⋅ \n",
       "   ⋅          ⋅          ⋅        …    ⋅          ⋅          ⋅ \n",
       "   ⋅          ⋅          ⋅             ⋅          ⋅          ⋅ \n",
       "   ⋅          ⋅          ⋅             ⋅          ⋅          ⋅ \n",
       "   ⋅          ⋅          ⋅             ⋅          ⋅          ⋅ \n",
       "   ⋅          ⋅          ⋅             ⋅          ⋅          ⋅ \n",
       "   ⋅          ⋅          ⋅        …    ⋅          ⋅          ⋅ \n",
       "   ⋅          ⋅          ⋅             ⋅          ⋅          ⋅ \n",
       "   ⋅          ⋅          ⋅             ⋅          ⋅          ⋅ \n",
       "  ⋮                               ⋱                         \n",
       "   ⋅          ⋅          ⋅             ⋅          ⋅          ⋅ \n",
       "   ⋅          ⋅          ⋅             ⋅          ⋅          ⋅ \n",
       "   ⋅          ⋅          ⋅        …    ⋅          ⋅          ⋅ \n",
       "   ⋅          ⋅          ⋅             ⋅          ⋅          ⋅ \n",
       "   ⋅          ⋅          ⋅             ⋅          ⋅          ⋅ \n",
       "   ⋅          ⋅          ⋅             ⋅          ⋅          ⋅ \n",
       "   ⋅          ⋅          ⋅             ⋅          ⋅          ⋅ \n",
       "   ⋅          ⋅          ⋅        …    ⋅          ⋅          ⋅ \n",
       "   ⋅          ⋅          ⋅           -0.592926    ⋅          ⋅ \n",
       "   ⋅          ⋅          ⋅           -1.47854    0.869354    ⋅ \n",
       "   ⋅          ⋅          ⋅            0.869354  -0.0454058  1.52004\n",
       "   ⋅          ⋅          ⋅             ⋅         1.52004    0.18073"
      ]
     },
     "execution_count": 49,
     "metadata": {},
     "output_type": "execute_result"
    }
   ],
   "source": [
    "# Трёхдиагональная матрица 1000000 х 1000000:\n",
    "n = 1000000;\n",
    "A = SymTridiagonal(randn(n), randn(n-1))"
   ]
  },
  {
   "cell_type": "code",
   "execution_count": 50,
   "id": "194893ca-e6f6-4df9-a213-21396b318b42",
   "metadata": {},
   "outputs": [
    {
     "name": "stdout",
     "output_type": "stream",
     "text": [
      "  530.131 ms (17 allocations: 183.11 MiB)\n"
     ]
    },
    {
     "data": {
      "text/plain": [
       "6.4179096859748075"
      ]
     },
     "execution_count": 50,
     "metadata": {},
     "output_type": "execute_result"
    }
   ],
   "source": [
    "# Оценка эффективности выполнения операции по нахождению\n",
    "# собственных значений:\n",
    "@btime eigmax(A)"
   ]
  },
  {
   "cell_type": "markdown",
   "id": "63a1f472-049b-448e-ad03-dc8c440581b2",
   "metadata": {},
   "source": [
    "### Общая линейная алгебра"
   ]
  },
  {
   "cell_type": "code",
   "execution_count": 51,
   "id": "60423253-4328-4cfa-879f-f04313f58729",
   "metadata": {},
   "outputs": [
    {
     "data": {
      "text/plain": [
       "1//2"
      ]
     },
     "execution_count": 51,
     "metadata": {},
     "output_type": "execute_result"
    }
   ],
   "source": [
    "1//2"
   ]
  },
  {
   "cell_type": "code",
   "execution_count": 52,
   "id": "b0775ea7-818f-43d1-927d-9882c7a47aab",
   "metadata": {},
   "outputs": [
    {
     "data": {
      "text/plain": [
       "3×3 Matrix{Rational{BigInt}}:\n",
       " 3//5   9//10  2//5\n",
       " 2//5   4//5   1//5\n",
       " 9//10  4//5   4//5"
      ]
     },
     "execution_count": 52,
     "metadata": {},
     "output_type": "execute_result"
    }
   ],
   "source": [
    "# Матрица с рациональными элементами:\n",
    "Arational = Matrix{Rational{BigInt}}(rand(1:10, 3, 3))/10"
   ]
  },
  {
   "cell_type": "code",
   "execution_count": 53,
   "id": "fb512ace-02fe-4f58-b506-5050af471dc1",
   "metadata": {},
   "outputs": [
    {
     "data": {
      "text/plain": [
       "3-element Vector{Rational{BigInt}}:\n",
       " 19//10\n",
       "  7//5\n",
       "  5//2"
      ]
     },
     "execution_count": 53,
     "metadata": {},
     "output_type": "execute_result"
    }
   ],
   "source": [
    "# Единичный вектор:\n",
    "x = fill(1, 3)\n",
    "# Задаём вектор b:\n",
    "b = Arational*x"
   ]
  },
  {
   "cell_type": "code",
   "execution_count": 54,
   "id": "874c379e-72ab-4224-b644-3c5ddc8588d5",
   "metadata": {},
   "outputs": [
    {
     "data": {
      "text/plain": [
       "3-element Vector{Rational{BigInt}}:\n",
       " 1//1\n",
       " 1//1\n",
       " 1//1"
      ]
     },
     "execution_count": 54,
     "metadata": {},
     "output_type": "execute_result"
    }
   ],
   "source": [
    "# Решение исходного уравнения получаем с помощью функции \\\n",
    "# (убеждаемся, что x - единичный вектор):\n",
    "Arational\\b"
   ]
  },
  {
   "cell_type": "code",
   "execution_count": 55,
   "id": "ed963588-25ad-47f7-b24c-561b19b60996",
   "metadata": {},
   "outputs": [
    {
     "data": {
      "text/plain": [
       "LU{Rational{BigInt}, Matrix{Rational{BigInt}}, Vector{Int64}}\n",
       "L factor:\n",
       "3×3 Matrix{Rational{BigInt}}:\n",
       " 1//1   0//1   0//1\n",
       " 4//9   1//1   0//1\n",
       " 2//3  33//40  1//1\n",
       "U factor:\n",
       "3×3 Matrix{Rational{BigInt}}:\n",
       " 9//10  4//5   4//5\n",
       " 0//1   4//9  -7//45\n",
       " 0//1   0//1  -1//200"
      ]
     },
     "execution_count": 55,
     "metadata": {},
     "output_type": "execute_result"
    }
   ],
   "source": [
    "# LU-разложение:\n",
    "lu(Arational)"
   ]
  },
  {
   "cell_type": "markdown",
   "id": "64246367-297c-4683-8d64-ca36904ee9e0",
   "metadata": {},
   "source": [
    "## Задания для самостоятельного выполнения"
   ]
  },
  {
   "cell_type": "markdown",
   "id": "6ca590b5-4db8-443d-ad15-765b75635d4f",
   "metadata": {},
   "source": [
    "### Произведение векторов"
   ]
  },
  {
   "cell_type": "code",
   "execution_count": 56,
   "id": "99f74276-2efe-40b3-a72b-ce3c0a7dc606",
   "metadata": {},
   "outputs": [
    {
     "data": {
      "text/plain": [
       "129"
      ]
     },
     "execution_count": 56,
     "metadata": {},
     "output_type": "execute_result"
    }
   ],
   "source": [
    "# task1\n",
    "v = [4, 2, -10, 3]\n",
    "dot_v = dot(v, v)"
   ]
  },
  {
   "cell_type": "code",
   "execution_count": 57,
   "id": "dad409de-bced-459a-a912-95a1e66dcfc2",
   "metadata": {},
   "outputs": [
    {
     "data": {
      "text/plain": [
       "4×4 Matrix{Int64}:\n",
       "  16    8  -40   12\n",
       "   8    4  -20    6\n",
       " -40  -20  100  -30\n",
       "  12    6  -30    9"
      ]
     },
     "execution_count": 57,
     "metadata": {},
     "output_type": "execute_result"
    }
   ],
   "source": [
    "outer_v = v * v'"
   ]
  },
  {
   "cell_type": "markdown",
   "id": "e11687a0-a1dd-48c2-8383-758a3c113f54",
   "metadata": {},
   "source": [
    "### Системы линейных уравнений"
   ]
  },
  {
   "cell_type": "code",
   "execution_count": 58,
   "id": "b9dd732a-d514-493e-aa2c-4bdb224f14e8",
   "metadata": {},
   "outputs": [
    {
     "name": "stdout",
     "output_type": "stream",
     "text": [
      "[2.5, -0.5]\n"
     ]
    }
   ],
   "source": [
    "# Task1a\n",
    "A_1 = [1 1; 1 -1]\n",
    "B_1 = [2; 3]\n",
    "println(A_1\\B_1)"
   ]
  },
  {
   "cell_type": "code",
   "execution_count": 59,
   "id": "e1967ad3-9070-4a2d-95a9-bb140eddd4d9",
   "metadata": {},
   "outputs": [
    {
     "ename": "LoadError",
     "evalue": "SingularException(2)",
     "output_type": "error",
     "traceback": [
      "SingularException(2)",
      "",
      "Stacktrace:",
      " [1] checknonsingular",
      "   @ c:\\users\\reachna\\appdata\\local\\programs\\julia-1.9.3\\share\\julia\\stdlib\\v1.9\\LinearAlgebra\\src\\factorization.jl:19 [inlined]",
      " [2] checknonsingular",
      "   @ c:\\users\\reachna\\appdata\\local\\programs\\julia-1.9.3\\share\\julia\\stdlib\\v1.9\\LinearAlgebra\\src\\factorization.jl:22 [inlined]",
      " [3] #lu!#170",
      "   @ c:\\users\\reachna\\appdata\\local\\programs\\julia-1.9.3\\share\\julia\\stdlib\\v1.9\\LinearAlgebra\\src\\lu.jl:82 [inlined]",
      " [4] lu!",
      "   @ c:\\users\\reachna\\appdata\\local\\programs\\julia-1.9.3\\share\\julia\\stdlib\\v1.9\\LinearAlgebra\\src\\lu.jl:80 [inlined]",
      " [5] lu(A::Matrix{Int64}, pivot::RowMaximum; check::Bool)",
      "   @ LinearAlgebra c:\\users\\reachna\\appdata\\local\\programs\\julia-1.9.3\\share\\julia\\stdlib\\v1.9\\LinearAlgebra\\src\\lu.jl:299",
      " [6] lu (repeats 2 times)",
      "   @ c:\\users\\reachna\\appdata\\local\\programs\\julia-1.9.3\\share\\julia\\stdlib\\v1.9\\LinearAlgebra\\src\\lu.jl:298 [inlined]",
      " [7] \\(A::Matrix{Int64}, B::Vector{Int64})",
      "   @ LinearAlgebra c:\\users\\reachna\\appdata\\local\\programs\\julia-1.9.3\\share\\julia\\stdlib\\v1.9\\LinearAlgebra\\src\\generic.jl:1115",
      " [8] top-level scope",
      "   @ In[59]:4"
     ]
    }
   ],
   "source": [
    "# Task1b\n",
    "A_2 = [1 2; 1 2]\n",
    "B_2 = [2; 4]\n",
    "println(A_2\\B_2)"
   ]
  },
  {
   "cell_type": "code",
   "execution_count": 60,
   "id": "80ba1eae-782f-4df0-b6e5-749827f25871",
   "metadata": {},
   "outputs": [
    {
     "ename": "LoadError",
     "evalue": "SingularException(2)",
     "output_type": "error",
     "traceback": [
      "SingularException(2)",
      "",
      "Stacktrace:",
      " [1] checknonsingular",
      "   @ c:\\users\\reachna\\appdata\\local\\programs\\julia-1.9.3\\share\\julia\\stdlib\\v1.9\\LinearAlgebra\\src\\factorization.jl:19 [inlined]",
      " [2] checknonsingular",
      "   @ c:\\users\\reachna\\appdata\\local\\programs\\julia-1.9.3\\share\\julia\\stdlib\\v1.9\\LinearAlgebra\\src\\factorization.jl:22 [inlined]",
      " [3] #lu!#170",
      "   @ c:\\users\\reachna\\appdata\\local\\programs\\julia-1.9.3\\share\\julia\\stdlib\\v1.9\\LinearAlgebra\\src\\lu.jl:82 [inlined]",
      " [4] lu!",
      "   @ c:\\users\\reachna\\appdata\\local\\programs\\julia-1.9.3\\share\\julia\\stdlib\\v1.9\\LinearAlgebra\\src\\lu.jl:80 [inlined]",
      " [5] lu(A::Matrix{Int64}, pivot::RowMaximum; check::Bool)",
      "   @ LinearAlgebra c:\\users\\reachna\\appdata\\local\\programs\\julia-1.9.3\\share\\julia\\stdlib\\v1.9\\LinearAlgebra\\src\\lu.jl:299",
      " [6] lu (repeats 2 times)",
      "   @ c:\\users\\reachna\\appdata\\local\\programs\\julia-1.9.3\\share\\julia\\stdlib\\v1.9\\LinearAlgebra\\src\\lu.jl:298 [inlined]",
      " [7] \\(A::Matrix{Int64}, B::Vector{Int64})",
      "   @ LinearAlgebra c:\\users\\reachna\\appdata\\local\\programs\\julia-1.9.3\\share\\julia\\stdlib\\v1.9\\LinearAlgebra\\src\\generic.jl:1115",
      " [8] top-level scope",
      "   @ In[60]:4"
     ]
    }
   ],
   "source": [
    "# Task1c\n",
    "A_3 = [1 2; 1 2]\n",
    "B_3 = [2; 5]\n",
    "println(A_3\\B_3)"
   ]
  },
  {
   "cell_type": "code",
   "execution_count": 61,
   "id": "ea556902-598a-4987-9eab-f3f7cb95179a",
   "metadata": {},
   "outputs": [
    {
     "name": "stdout",
     "output_type": "stream",
     "text": [
      "Ответ 1d: [0.4999999999999999, 0.5]\n"
     ]
    }
   ],
   "source": [
    "# task1d\n",
    "A_4 = [1 1; 2 2; 3 3]\n",
    "B_4 = [1; 2; 3]\n",
    "println(\"Ответ 1d: \", A_4\\B_4)"
   ]
  },
  {
   "cell_type": "code",
   "execution_count": 62,
   "id": "da76a43d-b11f-4cbc-99cd-6ec29d411b3f",
   "metadata": {},
   "outputs": [
    {
     "name": "stdout",
     "output_type": "stream",
     "text": [
      "Ответ 1e: [1.5000000000000004, -0.9999999999999997]\n"
     ]
    }
   ],
   "source": [
    "# task1e\n",
    "A_5 = [1 1; 2 1; 1 -1]\n",
    "B_5 = [2; 1; 3]\n",
    "println(\"Ответ 1e: \", A_5\\B_5)"
   ]
  },
  {
   "cell_type": "code",
   "execution_count": 63,
   "id": "44d45630-783d-4740-993d-43af7742a6a3",
   "metadata": {},
   "outputs": [
    {
     "name": "stdout",
     "output_type": "stream",
     "text": [
      "Ответ 1f: [-0.9999999999999989, 2.9999999999999982]\n"
     ]
    }
   ],
   "source": [
    "# task1f\n",
    "A_6 = [1 1; 2 1; 3 2]\n",
    "B_6 = [2; 1; 3]\n",
    "println(\"Ответ 1f: \", A_6\\B_6)"
   ]
  },
  {
   "cell_type": "code",
   "execution_count": 64,
   "id": "7e5af039-0f34-4523-b2ab-a5e8326c96a0",
   "metadata": {},
   "outputs": [
    {
     "name": "stdout",
     "output_type": "stream",
     "text": [
      "Ответ 2a: [2.2142857142857144, 0.35714285714285704, -0.5714285714285712]\n"
     ]
    }
   ],
   "source": [
    "# Task2a\n",
    "A_7 = [1 1 1; 1 -1 -2]\n",
    "B_7 = [2; 3]\n",
    "println(\"Ответ 2a: \", A_7\\B_7)"
   ]
  },
  {
   "cell_type": "code",
   "execution_count": 65,
   "id": "dea555a1-d58f-4054-9ae5-310f75bbd029",
   "metadata": {},
   "outputs": [
    {
     "name": "stdout",
     "output_type": "stream",
     "text": [
      "Ответ 2b: [-0.5, 2.5, 0.0]\n"
     ]
    }
   ],
   "source": [
    "# Task2b\n",
    "A_8 = [1 1 1; 2 2 -3; 3 1 1]\n",
    "B_8 = [2; 4; 1]\n",
    "println(\"Ответ 2b: \", A_8\\B_8)"
   ]
  },
  {
   "cell_type": "code",
   "execution_count": 66,
   "id": "6f824d55-6a7d-4edd-9a04-0583014a7cd9",
   "metadata": {},
   "outputs": [
    {
     "ename": "LoadError",
     "evalue": "SingularException(2)",
     "output_type": "error",
     "traceback": [
      "SingularException(2)",
      "",
      "Stacktrace:",
      " [1] checknonsingular",
      "   @ c:\\users\\reachna\\appdata\\local\\programs\\julia-1.9.3\\share\\julia\\stdlib\\v1.9\\LinearAlgebra\\src\\factorization.jl:19 [inlined]",
      " [2] checknonsingular",
      "   @ c:\\users\\reachna\\appdata\\local\\programs\\julia-1.9.3\\share\\julia\\stdlib\\v1.9\\LinearAlgebra\\src\\factorization.jl:22 [inlined]",
      " [3] #lu!#170",
      "   @ c:\\users\\reachna\\appdata\\local\\programs\\julia-1.9.3\\share\\julia\\stdlib\\v1.9\\LinearAlgebra\\src\\lu.jl:82 [inlined]",
      " [4] lu!",
      "   @ c:\\users\\reachna\\appdata\\local\\programs\\julia-1.9.3\\share\\julia\\stdlib\\v1.9\\LinearAlgebra\\src\\lu.jl:80 [inlined]",
      " [5] lu(A::Matrix{Int64}, pivot::RowMaximum; check::Bool)",
      "   @ LinearAlgebra c:\\users\\reachna\\appdata\\local\\programs\\julia-1.9.3\\share\\julia\\stdlib\\v1.9\\LinearAlgebra\\src\\lu.jl:299",
      " [6] lu (repeats 2 times)",
      "   @ c:\\users\\reachna\\appdata\\local\\programs\\julia-1.9.3\\share\\julia\\stdlib\\v1.9\\LinearAlgebra\\src\\lu.jl:298 [inlined]",
      " [7] \\(A::Matrix{Int64}, B::Vector{Int64})",
      "   @ LinearAlgebra c:\\users\\reachna\\appdata\\local\\programs\\julia-1.9.3\\share\\julia\\stdlib\\v1.9\\LinearAlgebra\\src\\generic.jl:1115",
      " [8] top-level scope",
      "   @ In[66]:4"
     ]
    }
   ],
   "source": [
    "# Task2c\n",
    "A_9 = [1 1 1; 1 1 2; 2 2 3]\n",
    "B_9 = [1; 0; 1]\n",
    "println(\"Ответ 2c: \", A_9\\B_9)"
   ]
  },
  {
   "cell_type": "code",
   "execution_count": 67,
   "id": "e409efdf-429d-4fc9-ac0e-a180d9dab1cd",
   "metadata": {},
   "outputs": [
    {
     "ename": "LoadError",
     "evalue": "SingularException(2)",
     "output_type": "error",
     "traceback": [
      "SingularException(2)",
      "",
      "Stacktrace:",
      " [1] checknonsingular",
      "   @ c:\\users\\reachna\\appdata\\local\\programs\\julia-1.9.3\\share\\julia\\stdlib\\v1.9\\LinearAlgebra\\src\\factorization.jl:19 [inlined]",
      " [2] checknonsingular",
      "   @ c:\\users\\reachna\\appdata\\local\\programs\\julia-1.9.3\\share\\julia\\stdlib\\v1.9\\LinearAlgebra\\src\\factorization.jl:22 [inlined]",
      " [3] #lu!#170",
      "   @ c:\\users\\reachna\\appdata\\local\\programs\\julia-1.9.3\\share\\julia\\stdlib\\v1.9\\LinearAlgebra\\src\\lu.jl:82 [inlined]",
      " [4] lu!",
      "   @ c:\\users\\reachna\\appdata\\local\\programs\\julia-1.9.3\\share\\julia\\stdlib\\v1.9\\LinearAlgebra\\src\\lu.jl:80 [inlined]",
      " [5] lu(A::Matrix{Int64}, pivot::RowMaximum; check::Bool)",
      "   @ LinearAlgebra c:\\users\\reachna\\appdata\\local\\programs\\julia-1.9.3\\share\\julia\\stdlib\\v1.9\\LinearAlgebra\\src\\lu.jl:299",
      " [6] lu (repeats 2 times)",
      "   @ c:\\users\\reachna\\appdata\\local\\programs\\julia-1.9.3\\share\\julia\\stdlib\\v1.9\\LinearAlgebra\\src\\lu.jl:298 [inlined]",
      " [7] \\(A::Matrix{Int64}, B::Vector{Int64})",
      "   @ LinearAlgebra c:\\users\\reachna\\appdata\\local\\programs\\julia-1.9.3\\share\\julia\\stdlib\\v1.9\\LinearAlgebra\\src\\generic.jl:1115",
      " [8] top-level scope",
      "   @ In[67]:4"
     ]
    }
   ],
   "source": [
    "# Task2d\n",
    "A_10 = [1 1 1; 1 1 2; 2 2 3]\n",
    "B_10 = [1; 0; 0]\n",
    "println(\"Ответ 2d: \", A_10\\B_10)"
   ]
  },
  {
   "cell_type": "markdown",
   "id": "5106a2e1-60c5-4db9-87b9-0b04baf46842",
   "metadata": {},
   "source": [
    "###  Операции с матрицами"
   ]
  },
  {
   "cell_type": "code",
   "execution_count": 68,
   "id": "19a874b8-f9ec-4a9f-b7e7-98e1a6fbf950",
   "metadata": {},
   "outputs": [
    {
     "data": {
      "text/plain": [
       "diagonal_matrix (generic function with 1 method)"
      ]
     },
     "execution_count": 68,
     "metadata": {},
     "output_type": "execute_result"
    }
   ],
   "source": [
    "function diagonal_matrix(matrix)\n",
    "    Asym = matrix + matrix'\n",
    "    AsymEig = eigen(Asym)\n",
    "    return inv(AsymEig.vectors) * matrix * AsymEig.vectors\n",
    "end"
   ]
  },
  {
   "cell_type": "code",
   "execution_count": 69,
   "id": "ae6b7154-3a83-4001-9dad-100aad56fcf3",
   "metadata": {},
   "outputs": [
    {
     "data": {
      "text/plain": [
       "2×2 Matrix{Float64}:\n",
       " -1.0  0.0\n",
       "  0.0  3.0"
      ]
     },
     "execution_count": 69,
     "metadata": {},
     "output_type": "execute_result"
    }
   ],
   "source": [
    "# task1a\n",
    "a = [1 -2; -2 1]\n",
    "diagonal_matrix(a)"
   ]
  },
  {
   "cell_type": "code",
   "execution_count": 70,
   "id": "9974d8b1-92f4-432b-a850-d8e028df6f32",
   "metadata": {},
   "outputs": [
    {
     "data": {
      "text/plain": [
       "2×2 Matrix{Float64}:\n",
       " -0.236068     3.46945e-16\n",
       "  4.44089e-16  4.23607"
      ]
     },
     "execution_count": 70,
     "metadata": {},
     "output_type": "execute_result"
    }
   ],
   "source": [
    "# task1b\n",
    "b = [1 -2; -2 3]\n",
    "diagonal_matrix(b)"
   ]
  },
  {
   "cell_type": "code",
   "execution_count": 71,
   "id": "b512077c-003b-48d1-8ca7-4dbeb1e6d1b2",
   "metadata": {},
   "outputs": [
    {
     "data": {
      "text/plain": [
       "3×3 Matrix{Float64}:\n",
       " -2.14134       3.55271e-15  -1.9984e-15\n",
       "  3.38618e-15   0.515138      1.11022e-16\n",
       " -6.66134e-16  -4.44089e-16   3.6262"
      ]
     },
     "execution_count": 71,
     "metadata": {},
     "output_type": "execute_result"
    }
   ],
   "source": [
    "# task1c\n",
    "c = [1 -2 0; -2 1 2; 0 2 0]\n",
    "diagonal_matrix(c)"
   ]
  },
  {
   "cell_type": "code",
   "execution_count": 72,
   "id": "41bc486b-e401-444e-ae45-a0e29b367e7b",
   "metadata": {},
   "outputs": [
    {
     "data": {
      "text/plain": [
       "2×2 Matrix{Int64}:\n",
       "  29525  -29524\n",
       " -29524   29525"
      ]
     },
     "execution_count": 72,
     "metadata": {},
     "output_type": "execute_result"
    }
   ],
   "source": [
    "# Task2a\n",
    "a = [1 -2; -2 1]\n",
    "a^10"
   ]
  },
  {
   "cell_type": "code",
   "execution_count": 74,
   "id": "715e76e2-f92a-4103-835d-bb44c10b767a",
   "metadata": {},
   "outputs": [
    {
     "data": {
      "text/plain": [
       "2×2 Matrix{Float64}:\n",
       "  2.1889   -0.45685\n",
       " -0.45685   2.1889"
      ]
     },
     "execution_count": 74,
     "metadata": {},
     "output_type": "execute_result"
    }
   ],
   "source": [
    "# Task2b\n",
    "b = [5 -2; -2 5]\n",
    "sqrt(b)"
   ]
  },
  {
   "cell_type": "code",
   "execution_count": 75,
   "id": "1b2a7610-d312-4d30-abdd-93d6bb91f558",
   "metadata": {},
   "outputs": [
    {
     "data": {
      "text/plain": [
       "2×2 Symmetric{ComplexF64, Matrix{ComplexF64}}:\n",
       "  0.971125+0.433013im  -0.471125+0.433013im\n",
       " -0.471125+0.433013im   0.971125+0.433013im"
      ]
     },
     "execution_count": 75,
     "metadata": {},
     "output_type": "execute_result"
    }
   ],
   "source": [
    "# Task2c\n",
    "c = [1 -2; -2 1]\n",
    "c^(1/3)"
   ]
  },
  {
   "cell_type": "code",
   "execution_count": 76,
   "id": "d09ffc19-12ef-416c-bd96-ca92340cbe81",
   "metadata": {},
   "outputs": [
    {
     "data": {
      "text/plain": [
       "2×2 Matrix{ComplexF64}:\n",
       " 0.568864+0.351578im  0.920442-0.217287im\n",
       " 0.920442-0.217287im   1.48931+0.134291im"
      ]
     },
     "execution_count": 76,
     "metadata": {},
     "output_type": "execute_result"
    }
   ],
   "source": [
    "# Task2d\n",
    "d = [1 2; 2 3]\n",
    "sqrt(d)"
   ]
  },
  {
   "cell_type": "code",
   "execution_count": 79,
   "id": "100cedf9-bd66-4afc-879a-2243e817a176",
   "metadata": {},
   "outputs": [
    {
     "data": {
      "text/plain": [
       "5-element Vector{Float64}:\n",
       " -133.26347908274784\n",
       "  -46.31722914150222\n",
       "   34.7455206405183\n",
       "  100.90643294309879\n",
       "  531.9287546406343"
      ]
     },
     "execution_count": 79,
     "metadata": {},
     "output_type": "execute_result"
    }
   ],
   "source": [
    "# Task3\n",
    "using BenchmarkTools\n",
    "A = [140 97 74 168 131; 97 106 89 131 36; 74 89 152 144 7; 168 131 144 54 142; 131 36 71 142 36]\n",
    "\n",
    "eigen_value = eigvals(A)"
   ]
  },
  {
   "cell_type": "code",
   "execution_count": 80,
   "id": "e9d6d3d6-c26e-4c97-95db-7857a56d9970",
   "metadata": {},
   "outputs": [
    {
     "name": "stdout",
     "output_type": "stream",
     "text": [
      "  4.157 μs (12 allocations: 2.38 KiB)\n"
     ]
    }
   ],
   "source": [
    "@btime eigvals(A);"
   ]
  },
  {
   "cell_type": "code",
   "execution_count": 81,
   "id": "e5572670-23d0-4e5e-955f-af611bfb022a",
   "metadata": {},
   "outputs": [
    {
     "name": "stdout",
     "output_type": "stream",
     "text": [
      "  227.292 ns (5 allocations: 80 bytes)\n"
     ]
    },
    {
     "data": {
      "text/plain": [
       "5×5 Matrix{Float64}:\n",
       " -133.263    0.0      0.0       0.0      0.0\n",
       "    0.0    -46.3172   0.0       0.0      0.0\n",
       "    0.0      0.0     34.7455    0.0      0.0\n",
       "    0.0      0.0      0.0     100.906    0.0\n",
       "    0.0      0.0      0.0       0.0    531.929"
      ]
     },
     "execution_count": 81,
     "metadata": {},
     "output_type": "execute_result"
    }
   ],
   "source": [
    "B = zeros(5, 5)\n",
    "@btime for i in 1:5\n",
    "    B[i, i] = eigen_value[i]\n",
    "end\n",
    "B"
   ]
  },
  {
   "cell_type": "code",
   "execution_count": 82,
   "id": "26e6ebc5-a668-4284-8d7b-37d16a9415b4",
   "metadata": {},
   "outputs": [
    {
     "name": "stdout",
     "output_type": "stream",
     "text": [
      "  110.108 ns (1 allocation: 256 bytes)\n"
     ]
    },
    {
     "data": {
      "text/plain": [
       "5×5 Matrix{Float64}:\n",
       " 1.0        0.0        0.0       0.0       0.0\n",
       " 0.779762   1.0        0.0       0.0       0.0\n",
       " 0.440476  -0.47314    1.0       0.0       0.0\n",
       " 0.833333   0.183929  -0.556312  1.0       0.0\n",
       " 0.577381  -0.459012  -0.189658  0.897068  1.0"
      ]
     },
     "execution_count": 82,
     "metadata": {},
     "output_type": "execute_result"
    }
   ],
   "source": [
    "Alu = lu(A)\n",
    "@btime Alu.L"
   ]
  },
  {
   "cell_type": "markdown",
   "id": "c971af9a-bfd8-491f-887b-aa07736d0ff0",
   "metadata": {},
   "source": [
    "### Линейные модели экономики"
   ]
  },
  {
   "cell_type": "code",
   "execution_count": 85,
   "id": "c77e596e-5814-492b-9fb8-b536c8aa996a",
   "metadata": {},
   "outputs": [
    {
     "data": {
      "text/plain": [
       "productive_matrix (generic function with 1 method)"
      ]
     },
     "execution_count": 85,
     "metadata": {},
     "output_type": "execute_result"
    }
   ],
   "source": [
    "function productive_matrix(matrix, size)\n",
    "    answer = \"\"\n",
    "     # единичная матрица\n",
    "    E = [1 0; 0 1]\n",
    "    # зададим любые неотрицательные числа\n",
    "    Y = rand(0:1000, size)\n",
    "    # По формуле вычислим x - A*x = y\n",
    "    S = E - matrix\n",
    "    # найдем значения x\n",
    "    X = S\\Y\n",
    "    # теперь проверим есть ли среди x отрциательное число\n",
    "    for i in 1:1:size\n",
    "        if X[i] < 0\n",
    "            answer = \"Матрица непродуктивная\"\n",
    "            break\n",
    "        else\n",
    "            answer = \"Матрица продуктивная\"\n",
    "        end\n",
    "    end\n",
    "    return answer\n",
    "end"
   ]
  },
  {
   "cell_type": "code",
   "execution_count": 86,
   "id": "6b395525-4ed7-4099-a154-a330eac48a61",
   "metadata": {},
   "outputs": [
    {
     "data": {
      "text/plain": [
       "\"Матрица непродуктивная\""
      ]
     },
     "execution_count": 86,
     "metadata": {},
     "output_type": "execute_result"
    }
   ],
   "source": [
    "# task4.1.a\n",
    "a = [1 2; 3 4]\n",
    "productive_matrix(a, 2)"
   ]
  },
  {
   "cell_type": "code",
   "execution_count": 88,
   "id": "651062c3-e139-4ba9-a35d-1930dc158846",
   "metadata": {},
   "outputs": [
    {
     "data": {
      "text/plain": [
       "\"Матрица непродуктивная\""
      ]
     },
     "execution_count": 88,
     "metadata": {},
     "output_type": "execute_result"
    }
   ],
   "source": [
    "# task 4.1.b\n",
    "b = [1 2; 3 4] * (1/2)\n",
    "productive_matrix(b, 2)"
   ]
  },
  {
   "cell_type": "code",
   "execution_count": 90,
   "id": "c48a75af-3287-4789-84ef-72911ef970a6",
   "metadata": {},
   "outputs": [
    {
     "data": {
      "text/plain": [
       "\"Матрица продуктивная\""
      ]
     },
     "execution_count": 90,
     "metadata": {},
     "output_type": "execute_result"
    }
   ],
   "source": [
    "# Task 4.1.c\n",
    "c = [1 2; 3 4] * (1/10)\n",
    "productive_matrix(c, 2)"
   ]
  },
  {
   "cell_type": "code",
   "execution_count": 91,
   "id": "a6ca8150-0291-49ad-83b0-fd9c5ead6fd3",
   "metadata": {},
   "outputs": [
    {
     "data": {
      "text/plain": [
       "productive_matrix_2 (generic function with 1 method)"
      ]
     },
     "execution_count": 91,
     "metadata": {},
     "output_type": "execute_result"
    }
   ],
   "source": [
    "# Task2\n",
    "function productive_matrix_2(matrix, size)\n",
    "    # единичная матрица\n",
    "    ans = \"\"\n",
    "    E = [1 0; 0 1]\n",
    "    matrix_new = E - matrix\n",
    "    inv_matrix_new = inv(matrix_new)\n",
    "    for i in 1:1:size\n",
    "        for j in 1:1:size\n",
    "            if inv_matrix_new[i, j] < 0\n",
    "                ans = \"Матрица непродуктивная\"\n",
    "                break\n",
    "            else\n",
    "                ans = \"Матрица продуктивная\"\n",
    "            end\n",
    "        end\n",
    "    end\n",
    "    return ans\n",
    "end"
   ]
  },
  {
   "cell_type": "code",
   "execution_count": 92,
   "id": "0a779974-bd1e-4190-a921-3b13bd02f651",
   "metadata": {},
   "outputs": [
    {
     "data": {
      "text/plain": [
       "\"Матрица непродуктивная\""
      ]
     },
     "execution_count": 92,
     "metadata": {},
     "output_type": "execute_result"
    }
   ],
   "source": [
    "# task4.2.a\n",
    "a = [1 2; 3 1]\n",
    "productive_matrix_2(a, 2)"
   ]
  },
  {
   "cell_type": "code",
   "execution_count": 93,
   "id": "a0d87fc6-7f22-415a-9865-677e4c86e32b",
   "metadata": {},
   "outputs": [
    {
     "data": {
      "text/plain": [
       "\"Матрица непродуктивная\""
      ]
     },
     "execution_count": 93,
     "metadata": {},
     "output_type": "execute_result"
    }
   ],
   "source": [
    "# task 4.2.b\n",
    "b = [1 2; 3 1] * (1/2)\n",
    "productive_matrix_2(b, 2)"
   ]
  },
  {
   "cell_type": "code",
   "execution_count": 94,
   "id": "3fe3a630-ba5c-430e-ac1e-f015e055db49",
   "metadata": {},
   "outputs": [
    {
     "data": {
      "text/plain": [
       "\"Матрица продуктивная\""
      ]
     },
     "execution_count": 94,
     "metadata": {},
     "output_type": "execute_result"
    }
   ],
   "source": [
    "# task 4.2.c\n",
    "c = [1 2; 3 1] * (1/10)\n",
    "productive_matrix_2(c, 2)"
   ]
  },
  {
   "cell_type": "code",
   "execution_count": 95,
   "id": "2454a140-dd14-4261-94b8-8a4ab99221ce",
   "metadata": {},
   "outputs": [
    {
     "data": {
      "text/plain": [
       "productive_matrix_3 (generic function with 1 method)"
      ]
     },
     "execution_count": 95,
     "metadata": {},
     "output_type": "execute_result"
    }
   ],
   "source": [
    "# Task3\n",
    "function productive_matrix_3(matrix, size)\n",
    "    ans=\"\"\n",
    "    # найдем собственные значения переданной матрицы\n",
    "    eigenvalues = eigvals(matrix)\n",
    "    for i in 1:1:size\n",
    "        if abs(eigenvalues[i]) > 1\n",
    "            ans = \"Матрица непродуктивная\"\n",
    "            break\n",
    "        else\n",
    "            ans = \"Матрица продуктивная\"\n",
    "        end\n",
    "    end\n",
    "    return ans\n",
    "end"
   ]
  },
  {
   "cell_type": "code",
   "execution_count": 96,
   "id": "0281a2f4-3e0b-472b-baf0-933b8da9d3ba",
   "metadata": {},
   "outputs": [
    {
     "data": {
      "text/plain": [
       "\"Матрица непродуктивная\""
      ]
     },
     "execution_count": 96,
     "metadata": {},
     "output_type": "execute_result"
    }
   ],
   "source": [
    "# task4.3.a\n",
    "a = [1 2; 3 1]\n",
    "productive_matrix_3(a, 2)"
   ]
  },
  {
   "cell_type": "code",
   "execution_count": 97,
   "id": "42c2f208-4275-4d6c-9b42-293b9e55a93b",
   "metadata": {},
   "outputs": [
    {
     "data": {
      "text/plain": [
       "\"Матрица непродуктивная\""
      ]
     },
     "execution_count": 97,
     "metadata": {},
     "output_type": "execute_result"
    }
   ],
   "source": [
    "# task4.3.b\n",
    "b = [1 2; 3 1] * (1/2)\n",
    "productive_matrix_3(b, 2)"
   ]
  },
  {
   "cell_type": "code",
   "execution_count": 98,
   "id": "1abcdf82-f297-404b-a10e-63612c9d0c81",
   "metadata": {},
   "outputs": [
    {
     "data": {
      "text/plain": [
       "\"Матрица продуктивная\""
      ]
     },
     "execution_count": 98,
     "metadata": {},
     "output_type": "execute_result"
    }
   ],
   "source": [
    "# task4.3.c\n",
    "c = [1 2; 3 1] * (1/10)\n",
    "productive_matrix_3(c, 2)"
   ]
  },
  {
   "cell_type": "code",
   "execution_count": 99,
   "id": "07ba8e3d-225d-445d-bad8-212492f77740",
   "metadata": {},
   "outputs": [
    {
     "data": {
      "text/plain": [
       "\"Матрица продуктивная\""
      ]
     },
     "execution_count": 99,
     "metadata": {},
     "output_type": "execute_result"
    }
   ],
   "source": [
    "# task 4.3.d\n",
    "d = [0.1 0.2 0.3; 0 0.1 0.2; 0 0.1 0.3]\n",
    "productive_matrix_3(d, 3)"
   ]
  }
 ],
 "metadata": {
  "kernelspec": {
   "display_name": "Julia 1.9.3",
   "language": "julia",
   "name": "julia-1.9"
  },
  "language_info": {
   "file_extension": ".jl",
   "mimetype": "application/julia",
   "name": "julia",
   "version": "1.9.3"
  }
 },
 "nbformat": 4,
 "nbformat_minor": 5
}
